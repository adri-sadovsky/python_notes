{
 "cells": [
  {
   "cell_type": "markdown",
   "id": "5c07a7f9",
   "metadata": {},
   "source": [
    "## data cleaning exercise:  dict of dict"
   ]
  },
  {
   "cell_type": "code",
   "execution_count": 6,
   "id": "90abab2f",
   "metadata": {},
   "outputs": [],
   "source": [
    "num_strings = {'zero':0,\n",
    "              'one':1,\n",
    "              'two':2,\n",
    "              'three':3,\n",
    "              'four':4,\n",
    "              'five':5,\n",
    "              'six':6,\n",
    "              'seven':7,\n",
    "              'eight':8,\n",
    "              'nine':9,\n",
    "              'ten':10,          \n",
    "              }"
   ]
  },
  {
   "cell_type": "code",
   "execution_count": 175,
   "id": "6c784b58",
   "metadata": {},
   "outputs": [
    {
     "data": {
      "text/plain": [
       "0"
      ]
     },
     "execution_count": 175,
     "metadata": {},
     "output_type": "execute_result"
    }
   ],
   "source": [
    "def clean_val(val):\n",
    "    #print(val)\n",
    "    #returns the int of any number that is in int format\n",
    "    if isinstance(val,int):\n",
    "        #print('in first if')\n",
    "        return val\n",
    "    #returns the int of any number that has a key in the 'num_strings' dict\n",
    "    if isinstance(val,str) and val in (num_strings.keys()): \n",
    "        #print('in second if')\n",
    "        return num_strings[val]\n",
    "    #returns the int of any number in string format\n",
    "    if isinstance(val,str):\n",
    "        #print('in third if')\n",
    "        return int(val)\n",
    "clean_val('zero')"
   ]
  },
  {
   "cell_type": "code",
   "execution_count": 176,
   "id": "643fd7ec",
   "metadata": {},
   "outputs": [],
   "source": [
    "corrupted_dod = {'a1':{'l':2,\n",
    "                     'w':'4',},\n",
    "               'b1':{'l':'zero',\n",
    "                    'w':'two',},\n",
    "               'c1':{'l':'zero',\n",
    "                    'w':'two',},\n",
    "\n",
    "               }"
   ]
  },
  {
   "cell_type": "markdown",
   "id": "0f182478",
   "metadata": {},
   "source": [
    "#### break apart nested dict for processing"
   ]
  },
  {
   "cell_type": "code",
   "execution_count": 167,
   "id": "0b0815ba",
   "metadata": {},
   "outputs": [],
   "source": [
    "temp_dict = corrupted_dod['a1']"
   ]
  },
  {
   "cell_type": "code",
   "execution_count": 168,
   "id": "ad064dce",
   "metadata": {},
   "outputs": [
    {
     "data": {
      "text/plain": [
       "{'l': 2, 'w': '4'}"
      ]
     },
     "execution_count": 168,
     "metadata": {},
     "output_type": "execute_result"
    }
   ],
   "source": [
    "temp_dict"
   ]
  },
  {
   "cell_type": "code",
   "execution_count": 211,
   "id": "614ff9f9",
   "metadata": {},
   "outputs": [],
   "source": [
    "def clone_dict(d):\n",
    "    #print(d)\n",
    "    new_clone_dict = {}\n",
    "    #print(new_clone_dict)\n",
    "    for k in d:\n",
    "        #v = d[k]\n",
    "        #print(d[k])\n",
    "        new_clone_dict[k] = d[k]\n",
    "    return new_clone_dict"
   ]
  },
  {
   "cell_type": "code",
   "execution_count": 212,
   "id": "a059485d",
   "metadata": {},
   "outputs": [
    {
     "data": {
      "text/plain": [
       "{'l': 2, 'w': '4'}"
      ]
     },
     "execution_count": 212,
     "metadata": {},
     "output_type": "execute_result"
    }
   ],
   "source": [
    "clone_dict(temp_dict)"
   ]
  },
  {
   "cell_type": "code",
   "execution_count": 217,
   "id": "839271d7",
   "metadata": {},
   "outputs": [],
   "source": [
    "def clean_dict(d):\n",
    "    #print(d)\n",
    "    new_clean_dict = {}\n",
    "    for k in d:\n",
    "        #print(d[k])\n",
    "        new_clean_dict[k] = clean_val(d[k])\n",
    "    return new_clean_dict"
   ]
  },
  {
   "cell_type": "code",
   "execution_count": 218,
   "id": "050e3a84",
   "metadata": {},
   "outputs": [
    {
     "data": {
      "text/plain": [
       "{'l': 2, 'w': 4}"
      ]
     },
     "execution_count": 218,
     "metadata": {},
     "output_type": "execute_result"
    }
   ],
   "source": [
    "clean_dict(temp_dict)"
   ]
  },
  {
   "cell_type": "code",
   "execution_count": 219,
   "id": "01b1e21b",
   "metadata": {},
   "outputs": [
    {
     "data": {
      "text/plain": [
       "{'a1': {'l': 2, 'w': '4'},\n",
       " 'b1': {'l': 'zero', 'w': 'two'},\n",
       " 'c1': {'l': 'zero', 'w': 'two'}}"
      ]
     },
     "execution_count": 219,
     "metadata": {},
     "output_type": "execute_result"
    }
   ],
   "source": [
    "corrupted_dod"
   ]
  },
  {
   "cell_type": "code",
   "execution_count": 220,
   "id": "c7313cb1",
   "metadata": {},
   "outputs": [],
   "source": [
    "def clone_dod(dod):\n",
    "    #print(dod)\n",
    "    clean_clone_dod = {}\n",
    "    for k in dod:\n",
    "        #print(k)\n",
    "        #print(dod[k])\n",
    "        clean_clone_dod[k] = dod[k]\n",
    "    return clean_clone_dod"
   ]
  },
  {
   "cell_type": "code",
   "execution_count": 221,
   "id": "829e1b4a",
   "metadata": {},
   "outputs": [
    {
     "data": {
      "text/plain": [
       "{'a1': {'l': 2, 'w': '4'},\n",
       " 'b1': {'l': 'zero', 'w': 'two'},\n",
       " 'c1': {'l': 'zero', 'w': 'two'}}"
      ]
     },
     "execution_count": 221,
     "metadata": {},
     "output_type": "execute_result"
    }
   ],
   "source": [
    "clone_dod(corrupted_dod)"
   ]
  },
  {
   "cell_type": "code",
   "execution_count": 222,
   "id": "09c89b3c",
   "metadata": {},
   "outputs": [],
   "source": [
    "def clean_dod(dod):\n",
    "    #print(dod)\n",
    "    clean_dod = {}\n",
    "    for k in dod:\n",
    "        #print(k)\n",
    "        #print(dod[k])\n",
    "        clean_dod[k] = clean_dict(dod[k])\n",
    "    return clean_dod"
   ]
  },
  {
   "cell_type": "code",
   "execution_count": 223,
   "id": "c7dcd82b",
   "metadata": {},
   "outputs": [
    {
     "data": {
      "text/plain": [
       "{'a1': {'l': 2, 'w': 4}, 'b1': {'l': 0, 'w': 2}, 'c1': {'l': 0, 'w': 2}}"
      ]
     },
     "execution_count": 223,
     "metadata": {},
     "output_type": "execute_result"
    }
   ],
   "source": [
    "clean_dod(corrupted_dod)"
   ]
  }
 ],
 "metadata": {
  "kernelspec": {
   "display_name": "Python 3",
   "language": "python",
   "name": "python3"
  },
  "language_info": {
   "codemirror_mode": {
    "name": "ipython",
    "version": 3
   },
   "file_extension": ".py",
   "mimetype": "text/x-python",
   "name": "python",
   "nbconvert_exporter": "python",
   "pygments_lexer": "ipython3",
   "version": "3.6.9"
  }
 },
 "nbformat": 4,
 "nbformat_minor": 5
}
