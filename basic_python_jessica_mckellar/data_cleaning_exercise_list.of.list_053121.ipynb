{
 "cells": [
  {
   "cell_type": "code",
   "execution_count": null,
   "id": "41a3c6c5",
   "metadata": {},
   "outputs": [],
   "source": []
  },
  {
   "cell_type": "code",
   "execution_count": 12,
   "id": "a6ea2a81",
   "metadata": {},
   "outputs": [],
   "source": [
    "num_strings = {'zero':0,\n",
    "              'one':1,\n",
    "              'two':2,\n",
    "              'three':3,\n",
    "              'four':4,\n",
    "              'five':5,\n",
    "              'six':6,\n",
    "              'seven':7,\n",
    "              'eight':8,\n",
    "              'nine':9,\n",
    "              'ten':10,          \n",
    "              'eleven':11,\n",
    "              'twelve':12,\n",
    "              'thirteen':13,\n",
    "              'fourteen':14,\n",
    "              'fifteen':15,}"
   ]
  },
  {
   "cell_type": "code",
   "execution_count": 13,
   "id": "51285bad",
   "metadata": {},
   "outputs": [
    {
     "data": {
      "text/plain": [
       "10"
      ]
     },
     "execution_count": 13,
     "metadata": {},
     "output_type": "execute_result"
    }
   ],
   "source": [
    "def clean_value(val):\n",
    "    if isinstance(val,int):\n",
    "        return val\n",
    "    if isinstance(val,str) and val in num_strings.keys():\n",
    "        return num_strings[val]\n",
    "    if isinstance(val,str):\n",
    "        return int(val)\n",
    "clean_value('10')"
   ]
  },
  {
   "cell_type": "markdown",
   "id": "2a01959a",
   "metadata": {},
   "source": [
    "#### convert list of str ints to ints"
   ]
  },
  {
   "cell_type": "code",
   "execution_count": 56,
   "id": "a8ab57ef",
   "metadata": {},
   "outputs": [],
   "source": [
    "list = ['1','2','3','4','5','6','7','8','9','10',]"
   ]
  },
  {
   "cell_type": "markdown",
   "id": "26f7da08",
   "metadata": {},
   "source": [
    "#### clone list"
   ]
  },
  {
   "cell_type": "code",
   "execution_count": 159,
   "id": "dc9e62ef",
   "metadata": {},
   "outputs": [],
   "source": [
    "def clone_list(list):\n",
    "    new_clone_list = []\n",
    "    for iv in list:\n",
    "        new_clone_list.append(iv)\n",
    "    return new_clone_list"
   ]
  },
  {
   "cell_type": "code",
   "execution_count": 160,
   "id": "aea75b96",
   "metadata": {},
   "outputs": [
    {
     "data": {
      "text/plain": [
       "['1', '2', '3', '4', '5', '6', '7', '8', '9', '10']"
      ]
     },
     "execution_count": 160,
     "metadata": {},
     "output_type": "execute_result"
    }
   ],
   "source": [
    "clone_list(list)"
   ]
  },
  {
   "cell_type": "markdown",
   "id": "52116e1d",
   "metadata": {},
   "source": [
    "#### convert from str to int"
   ]
  },
  {
   "cell_type": "code",
   "execution_count": 67,
   "id": "6c662502",
   "metadata": {},
   "outputs": [],
   "source": [
    "def str_to_int(list):\n",
    "    upd_list = []\n",
    "    for iv in list:\n",
    "        #print(iv)\n",
    "        upd_list.append(clean_value(iv))\n",
    "    return upd_list"
   ]
  },
  {
   "cell_type": "code",
   "execution_count": 68,
   "id": "f9afa761",
   "metadata": {},
   "outputs": [
    {
     "data": {
      "text/plain": [
       "[1, 2, 3, 4, 5, 6, 7, 8, 9, 10]"
      ]
     },
     "execution_count": 68,
     "metadata": {},
     "output_type": "execute_result"
    }
   ],
   "source": [
    "str_to_int(list)"
   ]
  },
  {
   "cell_type": "markdown",
   "id": "cecfdc02",
   "metadata": {},
   "source": [
    "#### convert list of str int names to ints"
   ]
  },
  {
   "cell_type": "code",
   "execution_count": 76,
   "id": "1c5289e7",
   "metadata": {},
   "outputs": [],
   "source": [
    "list_of_intnames = ['one','two','three','four','five',]"
   ]
  },
  {
   "cell_type": "code",
   "execution_count": 77,
   "id": "fb9c337a",
   "metadata": {},
   "outputs": [
    {
     "data": {
      "text/plain": [
       "['one', 'two', 'three', 'four', 'five']"
      ]
     },
     "execution_count": 77,
     "metadata": {},
     "output_type": "execute_result"
    }
   ],
   "source": [
    "list_of_intnames"
   ]
  },
  {
   "cell_type": "markdown",
   "id": "35529548",
   "metadata": {},
   "source": [
    "#### clone list"
   ]
  },
  {
   "cell_type": "code",
   "execution_count": 116,
   "id": "956b0a1d",
   "metadata": {},
   "outputs": [],
   "source": [
    "def clone_list_of_intnames(list):\n",
    "    clone_list_of_intnames = []\n",
    "    for iv in list:\n",
    "        clone_list_of_intnames.append(iv)\n",
    "    return clone_list_of_intnames"
   ]
  },
  {
   "cell_type": "code",
   "execution_count": 117,
   "id": "974ce390",
   "metadata": {},
   "outputs": [
    {
     "data": {
      "text/plain": [
       "['one', 'two', 'three', 'four', 'five']"
      ]
     },
     "execution_count": 117,
     "metadata": {},
     "output_type": "execute_result"
    }
   ],
   "source": [
    "clone_list_of_intnames(list_of_intnames)"
   ]
  },
  {
   "cell_type": "markdown",
   "id": "5e912a7a",
   "metadata": {},
   "source": [
    "####  convert list of mixed data types to ints"
   ]
  },
  {
   "cell_type": "code",
   "execution_count": 99,
   "id": "2c53a4d2",
   "metadata": {},
   "outputs": [],
   "source": [
    "mixed_list = [1,'2','three',4,'5','six',7,'8','nine',]"
   ]
  },
  {
   "cell_type": "code",
   "execution_count": 100,
   "id": "8b6d5ee6",
   "metadata": {},
   "outputs": [
    {
     "data": {
      "text/plain": [
       "[1, '2', 'three', 4, '5', 'six', 7, '8', 'nine']"
      ]
     },
     "execution_count": 100,
     "metadata": {},
     "output_type": "execute_result"
    }
   ],
   "source": [
    "mixed_list"
   ]
  },
  {
   "cell_type": "markdown",
   "id": "4fd0141f",
   "metadata": {},
   "source": [
    "#### clone list"
   ]
  },
  {
   "cell_type": "code",
   "execution_count": 118,
   "id": "676ccaa3",
   "metadata": {},
   "outputs": [],
   "source": [
    "def clone_list_of_mixed(list):\n",
    "    clone_list_of_mixed = []\n",
    "    for iv in list:\n",
    "        clone_list_of_mixed.append(iv)\n",
    "    return clone_list_of_mixed"
   ]
  },
  {
   "cell_type": "code",
   "execution_count": 119,
   "id": "f37ddfbf",
   "metadata": {},
   "outputs": [
    {
     "data": {
      "text/plain": [
       "[1, '2', 'three', 4, '5', 'six', 7, '8', 'nine']"
      ]
     },
     "execution_count": 119,
     "metadata": {},
     "output_type": "execute_result"
    }
   ],
   "source": [
    "clone_list_of_mixed(mixed_list)"
   ]
  },
  {
   "cell_type": "markdown",
   "id": "91c0ecd6",
   "metadata": {},
   "source": [
    "#### convert all to int"
   ]
  },
  {
   "cell_type": "code",
   "execution_count": 106,
   "id": "6bbef7a6",
   "metadata": {},
   "outputs": [],
   "source": [
    "def convert_list_of_mixed(list):\n",
    "    clean_list_of_mixed = []\n",
    "    for iv in list:\n",
    "        clean_list_of_mixed.append(clean_value(iv))\n",
    "    return clean_list_of_mixed"
   ]
  },
  {
   "cell_type": "code",
   "execution_count": 107,
   "id": "7d810f1a",
   "metadata": {},
   "outputs": [
    {
     "data": {
      "text/plain": [
       "[1, 2, 3, 4, 5, 6, 7, 8, 9]"
      ]
     },
     "execution_count": 107,
     "metadata": {},
     "output_type": "execute_result"
    }
   ],
   "source": [
    "convert_list_of_mixed(mixed_list)"
   ]
  },
  {
   "cell_type": "markdown",
   "id": "ad56041c",
   "metadata": {},
   "source": [
    "#### convert from str int name to int"
   ]
  },
  {
   "cell_type": "code",
   "execution_count": 73,
   "id": "87a2ee14",
   "metadata": {},
   "outputs": [],
   "source": [
    "def convert_strname_to_int(list):\n",
    "    upd_list = []\n",
    "    for iv in list:\n",
    "        upd_list.append(clean_value(iv))\n",
    "    return upd_list        "
   ]
  },
  {
   "cell_type": "code",
   "execution_count": 74,
   "id": "c63ef799",
   "metadata": {},
   "outputs": [
    {
     "data": {
      "text/plain": [
       "[1, 2, 3, 4, 5]"
      ]
     },
     "execution_count": 74,
     "metadata": {},
     "output_type": "execute_result"
    }
   ],
   "source": [
    "convert_strname_to_int(list_of_intnames)"
   ]
  },
  {
   "cell_type": "markdown",
   "id": "e1fa34f8",
   "metadata": {},
   "source": [
    "#### convert list w/ str ints to ints"
   ]
  },
  {
   "cell_type": "code",
   "execution_count": 14,
   "id": "def5daee",
   "metadata": {},
   "outputs": [],
   "source": [
    "list_of_lists = [[1,2,3],[5,6,7],]"
   ]
  },
  {
   "cell_type": "code",
   "execution_count": 15,
   "id": "4047f031",
   "metadata": {},
   "outputs": [
    {
     "data": {
      "text/plain": [
       "[[1, 2, 3], [5, 6, 7]]"
      ]
     },
     "execution_count": 15,
     "metadata": {},
     "output_type": "execute_result"
    }
   ],
   "source": [
    "list_of_lists"
   ]
  },
  {
   "cell_type": "code",
   "execution_count": 16,
   "id": "b12d2d96",
   "metadata": {},
   "outputs": [
    {
     "data": {
      "text/plain": [
       "7"
      ]
     },
     "execution_count": 16,
     "metadata": {},
     "output_type": "execute_result"
    }
   ],
   "source": [
    "list_of_lists[1][2]"
   ]
  },
  {
   "cell_type": "markdown",
   "id": "fde4c74d",
   "metadata": {},
   "source": [
    "#### clone list of lists"
   ]
  },
  {
   "cell_type": "code",
   "execution_count": 10,
   "id": "3cca93a9",
   "metadata": {},
   "outputs": [],
   "source": [
    "def clone_list_of_list(lol):\n",
    "    cloned_list_of_list = []\n",
    "    for l in lol:\n",
    "        #print(clone_list(l))\n",
    "        cloned_list_of_list.append(l)\n",
    "    return cloned_list_of_list"
   ]
  },
  {
   "cell_type": "code",
   "execution_count": 11,
   "id": "25f17164",
   "metadata": {},
   "outputs": [
    {
     "data": {
      "text/plain": [
       "[[1, 2, 3], [5, 6, 7]]"
      ]
     },
     "execution_count": 11,
     "metadata": {},
     "output_type": "execute_result"
    }
   ],
   "source": [
    "clone_list_of_list(list_of_lists)"
   ]
  },
  {
   "cell_type": "code",
   "execution_count": null,
   "id": "ddc92c8c",
   "metadata": {},
   "outputs": [],
   "source": []
  },
  {
   "cell_type": "code",
   "execution_count": null,
   "id": "51ae8cc2",
   "metadata": {},
   "outputs": [],
   "source": []
  },
  {
   "cell_type": "code",
   "execution_count": null,
   "id": "dabdc2c9",
   "metadata": {},
   "outputs": [],
   "source": []
  },
  {
   "cell_type": "code",
   "execution_count": null,
   "id": "2675a59c",
   "metadata": {},
   "outputs": [],
   "source": []
  },
  {
   "cell_type": "code",
   "execution_count": null,
   "id": "8d059382",
   "metadata": {},
   "outputs": [],
   "source": []
  },
  {
   "cell_type": "code",
   "execution_count": null,
   "id": "c1874d3e",
   "metadata": {},
   "outputs": [],
   "source": []
  },
  {
   "cell_type": "code",
   "execution_count": 17,
   "id": "7607b6a4",
   "metadata": {},
   "outputs": [],
   "source": [
    "def clean_lol(list):\n",
    "    new_clean_lol = []\n",
    "    for iv in list:\n",
    "        #for element in iv:\n",
    "         #   print(element)\n",
    "        new_clean_lol.append(clean_value(iv))\n",
    "    return new_clean_lol"
   ]
  },
  {
   "cell_type": "code",
   "execution_count": 18,
   "id": "b94b9ceb",
   "metadata": {},
   "outputs": [
    {
     "data": {
      "text/plain": [
       "[None, None]"
      ]
     },
     "execution_count": 18,
     "metadata": {},
     "output_type": "execute_result"
    }
   ],
   "source": [
    "clean_lol(list_of_lists)"
   ]
  },
  {
   "cell_type": "code",
   "execution_count": null,
   "id": "1ff1d59d",
   "metadata": {},
   "outputs": [],
   "source": []
  },
  {
   "cell_type": "code",
   "execution_count": null,
   "id": "d8e64c13",
   "metadata": {},
   "outputs": [],
   "source": []
  }
 ],
 "metadata": {
  "kernelspec": {
   "display_name": "Python 3",
   "language": "python",
   "name": "python3"
  },
  "language_info": {
   "codemirror_mode": {
    "name": "ipython",
    "version": 3
   },
   "file_extension": ".py",
   "mimetype": "text/x-python",
   "name": "python",
   "nbconvert_exporter": "python",
   "pygments_lexer": "ipython3",
   "version": "3.6.9"
  }
 },
 "nbformat": 4,
 "nbformat_minor": 5
}
