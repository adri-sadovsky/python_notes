{
 "cells": [
  {
   "cell_type": "markdown",
   "id": "5c07a7f9",
   "metadata": {},
   "source": [
    "## data cleaning exercise"
   ]
  },
  {
   "cell_type": "code",
   "execution_count": 180,
   "id": "90abab2f",
   "metadata": {},
   "outputs": [],
   "source": [
    "num_strings = {'zero':0,\n",
    "              'one':1,\n",
    "              'two':2,\n",
    "              'three':3,\n",
    "              'four':4,\n",
    "              'five':5,\n",
    "              'six':6,\n",
    "              'seven':7,\n",
    "              'eight':8,\n",
    "              'nine':9,\n",
    "              'ten':10,          \n",
    "              }"
   ]
  },
  {
   "cell_type": "code",
   "execution_count": 195,
   "id": "6c784b58",
   "metadata": {},
   "outputs": [
    {
     "name": "stdout",
     "output_type": "stream",
     "text": [
      "in first if\n"
     ]
    },
    {
     "data": {
      "text/plain": [
       "12222"
      ]
     },
     "execution_count": 195,
     "metadata": {},
     "output_type": "execute_result"
    }
   ],
   "source": [
    "def clean_val(val):\n",
    "    #print(val)\n",
    "    #returns the int of any number that is in int format\n",
    "    if isinstance(val,int):\n",
    "        print('in first if')\n",
    "        return val\n",
    "    #returns the int of any number that has a key in the 'num_strings' dict\n",
    "    if isinstance(val,str) and val in (num_strings.keys()): \n",
    "        print('in second if')\n",
    "        return num_strings[val]\n",
    "    #returns the int of any number in string format\n",
    "    if isinstance(val,str):\n",
    "        print('in third if')\n",
    "        return int(val)\n",
    "clean_val(12222)"
   ]
  },
  {
   "cell_type": "code",
   "execution_count": null,
   "id": "620bb556",
   "metadata": {},
   "outputs": [],
   "source": []
  },
  {
   "cell_type": "code",
   "execution_count": null,
   "id": "95028389",
   "metadata": {},
   "outputs": [],
   "source": []
  },
  {
   "cell_type": "raw",
   "id": "fd78d024",
   "metadata": {},
   "source": [
    "corrupted_dod = {'a1':{'l':2,\n",
    "                     'w':'4',},\n",
    "               'b1':{'l':'zero',\n",
    "                    'w':'two',},\n",
    "               'c1':{'l':'zero',\n",
    "                    'w':'two',},\n",
    "\n",
    "               }"
   ]
  },
  {
   "cell_type": "code",
   "execution_count": 7,
   "id": "89f4cb0b",
   "metadata": {},
   "outputs": [],
   "source": [
    "testcase_1 = {'l':'0','w':2,}\n",
    "testcase_2 = {'l':'zero','w':'two',}\n",
    "x = 1\n",
    "y = '23'\n",
    "z = 'two'"
   ]
  },
  {
   "cell_type": "markdown",
   "id": "8ef02624",
   "metadata": {},
   "source": [
    "#### testcase_1 work"
   ]
  },
  {
   "cell_type": "code",
   "execution_count": 8,
   "id": "54283012",
   "metadata": {},
   "outputs": [
    {
     "name": "stdout",
     "output_type": "stream",
     "text": [
      "val is now:::: 0\n",
      "{'l': 0}\n",
      "val is now:::: 2\n",
      "{'l': 0, 'w': 2}\n"
     ]
    }
   ],
   "source": [
    "updated_testcase_1 = {}\n",
    "\n",
    "for iv in testcase_1:\n",
    "    #print(iv,testcase_1[iv])\n",
    "    val = int(testcase_1[iv])\n",
    "    print (\"val is now::::\", val)\n",
    "    updated_testcase_1[iv] = val\n",
    "    print(updated_testcase_1)"
   ]
  },
  {
   "cell_type": "markdown",
   "id": "c216268a",
   "metadata": {},
   "source": [
    "#### testcase_2 work"
   ]
  },
  {
   "cell_type": "code",
   "execution_count": 9,
   "id": "b6b5f0b5",
   "metadata": {},
   "outputs": [],
   "source": [
    "testcase_2 = {'l':'zero','w':'two',}"
   ]
  },
  {
   "cell_type": "code",
   "execution_count": 149,
   "id": "9713cc23",
   "metadata": {},
   "outputs": [
    {
     "name": "stdout",
     "output_type": "stream",
     "text": [
      "{'l': 'zero', 'w': 'two'}\n"
     ]
    },
    {
     "data": {
      "text/plain": [
       "dict_keys(['l', 'w'])"
      ]
     },
     "execution_count": 149,
     "metadata": {},
     "output_type": "execute_result"
    }
   ],
   "source": [
    "#isinstance(val, str)\n",
    "type(testcase_2)\n",
    "print(testcase_2)\n",
    "testcase_2.keys()"
   ]
  },
  {
   "cell_type": "code",
   "execution_count": 178,
   "id": "5158da2c",
   "metadata": {},
   "outputs": [
    {
     "name": "stdout",
     "output_type": "stream",
     "text": [
      "in second if\n",
      "{'l': 0}\n",
      "in second if\n",
      "{'l': 0, 'w': 2}\n"
     ]
    }
   ],
   "source": [
    "updated_testcase_2 = {}\n",
    "\n",
    "for k, v in testcase_2.items():\n",
    "    #print(k, v)\n",
    "    v = clean_val(v)\n",
    "    #print(v)\n",
    "    updated_testcase_2[k] = v\n",
    "    print(updated_testcase_2)   "
   ]
  },
  {
   "cell_type": "code",
   "execution_count": null,
   "id": "52dc2702",
   "metadata": {},
   "outputs": [],
   "source": []
  },
  {
   "cell_type": "markdown",
   "id": "83549889",
   "metadata": {},
   "source": [
    "updated_testcase_2 = {}\n",
    "\n",
    "def clean_val(val):\n",
    "    for iv in val:\n",
    "        val = (testcase_2[iv])\n",
    "        print(testcase_2[iv])\n",
    "        print(type(val))\n",
    "        if isinstance(val,str):\n",
    "            #print('o87gkuhbkhjbjkhgbkjhbkj')\n",
    "        \n",
    "    #test for int (hint: isinstance)\n",
    "        #if val == 'zero':\n",
    "        #    val == 0\n",
    "        #if val == 'two':\n",
    "        #    val == 2 \n",
    "       # if isinstance(val, str) and val == 'zero':\n",
    "        #    upd_val == 0\n",
    "       # if isinstance(val, str) and val == 'two':\n",
    "        #    upd_val == 2 \n",
    "    #print(val)\n",
    "    #print (\"val is now::::\", val)\n",
    "       # updated_testcase_2[iv] = upd_val\n",
    "       # print(updated_testcase_2)\n",
    "    \n",
    "    \n",
    "    \n",
    "    #print(val,'instance of int?', result)\n",
    "    #type(val)\n",
    "    #print(type(val))\n",
    "    #if first_cond:\n",
    "        #return it\n",
    "    \n",
    "    #test for string\n",
    "   # if second_cond:\n",
    "       # return it\n",
    "    #test the weird case\n",
    "    #pass\n",
    "#clean_val(2)\n",
    "\n",
    "\n",
    "\n",
    "#for iv in testcase_1:\n",
    "    #print(iv,testcase_1[iv])\n",
    " #   val = int(testcase_1[iv])\n",
    "  #  print (\"val is now::::\", val)\n",
    "   # updated_testcase_1[iv] = val\n",
    "    #print(updated_testcase_1)\n",
    "\n"
   ]
  },
  {
   "cell_type": "code",
   "execution_count": 179,
   "id": "15b0437f",
   "metadata": {},
   "outputs": [],
   "source": [
    "clean_val(testcase_2)"
   ]
  },
  {
   "cell_type": "code",
   "execution_count": null,
   "id": "953202aa",
   "metadata": {},
   "outputs": [],
   "source": []
  },
  {
   "cell_type": "code",
   "execution_count": null,
   "id": "8a643e52",
   "metadata": {},
   "outputs": [],
   "source": []
  },
  {
   "cell_type": "code",
   "execution_count": 102,
   "id": "bf1956c5",
   "metadata": {},
   "outputs": [
    {
     "ename": "AssertionError",
     "evalue": "",
     "output_type": "error",
     "traceback": [
      "\u001b[0;31m---------------------------------------------------------------------------\u001b[0m",
      "\u001b[0;31mAssertionError\u001b[0m                            Traceback (most recent call last)",
      "\u001b[0;32m<ipython-input-102-804abd399739>\u001b[0m in \u001b[0;36m<module>\u001b[0;34m\u001b[0m\n\u001b[0;32m----> 1\u001b[0;31m \u001b[0;32massert\u001b[0m \u001b[0mclean_val\u001b[0m\u001b[0;34m(\u001b[0m\u001b[0;36m2\u001b[0m\u001b[0;34m)\u001b[0m \u001b[0;34m==\u001b[0m \u001b[0;36m2\u001b[0m\u001b[0;34m\u001b[0m\u001b[0;34m\u001b[0m\u001b[0m\n\u001b[0m\u001b[1;32m      2\u001b[0m \u001b[0;32massert\u001b[0m \u001b[0mclean_val\u001b[0m\u001b[0;34m(\u001b[0m\u001b[0;34m'2'\u001b[0m\u001b[0;34m)\u001b[0m \u001b[0;34m==\u001b[0m \u001b[0;36m2\u001b[0m\u001b[0;34m\u001b[0m\u001b[0;34m\u001b[0m\u001b[0m\n\u001b[1;32m      3\u001b[0m \u001b[0;32massert\u001b[0m \u001b[0mclean_val\u001b[0m\u001b[0;34m(\u001b[0m\u001b[0;34m'two'\u001b[0m\u001b[0;34m)\u001b[0m \u001b[0;34m==\u001b[0m \u001b[0;36m2\u001b[0m\u001b[0;34m\u001b[0m\u001b[0;34m\u001b[0m\u001b[0m\n",
      "\u001b[0;31mAssertionError\u001b[0m: "
     ]
    }
   ],
   "source": [
    "assert clean_val(2) == 2\n",
    "assert clean_val('2') == 2\n",
    "assert clean_val('two') == 2"
   ]
  },
  {
   "cell_type": "code",
   "execution_count": 23,
   "id": "c8e30f79",
   "metadata": {},
   "outputs": [],
   "source": [
    "fixed_dod = {'a1':{'l':2,\n",
    "                     'w':4,},\n",
    "               'b1':{'l':0,\n",
    "                    'w':2,},\n",
    "               'c1':{'l':0,\n",
    "                    'w':2,},\n",
    "\n",
    "               }"
   ]
  },
  {
   "cell_type": "markdown",
   "id": "814927df",
   "metadata": {},
   "source": [
    "#### these are the outer dict keys"
   ]
  },
  {
   "cell_type": "code",
   "execution_count": 53,
   "id": "72239fab",
   "metadata": {},
   "outputs": [
    {
     "data": {
      "text/plain": [
       "dict_keys(['a1', 'b1', 'c1'])"
      ]
     },
     "execution_count": 53,
     "metadata": {},
     "output_type": "execute_result"
    }
   ],
   "source": [
    "corrupted_dod.keys()"
   ]
  },
  {
   "cell_type": "markdown",
   "id": "f43ae083",
   "metadata": {},
   "source": [
    "#### the below values are actually the nested dicts"
   ]
  },
  {
   "cell_type": "code",
   "execution_count": 54,
   "id": "9978de42",
   "metadata": {},
   "outputs": [
    {
     "data": {
      "text/plain": [
       "dict_values([{'l': '2', 'w': '4'}, {'l': 'zero', 'w': 'two'}, {'l': 'zero', 'w': 'two'}])"
      ]
     },
     "execution_count": 54,
     "metadata": {},
     "output_type": "execute_result"
    }
   ],
   "source": [
    "corrupted_dod.values()"
   ]
  },
  {
   "cell_type": "code",
   "execution_count": 66,
   "id": "d26bfade",
   "metadata": {},
   "outputs": [
    {
     "name": "stdout",
     "output_type": "stream",
     "text": [
      "dict_items([('a1', {'l': '2', 'w': '4'}), ('b1', {'l': 'zero', 'w': 'two'}), ('c1', {'l': 'zero', 'w': 'two'})])\n"
     ]
    }
   ],
   "source": [
    "print(corrupted_dod.items())"
   ]
  },
  {
   "cell_type": "markdown",
   "id": "8b0389c9",
   "metadata": {},
   "source": [
    "#### get inner dict keys"
   ]
  },
  {
   "cell_type": "code",
   "execution_count": 62,
   "id": "12b65675",
   "metadata": {},
   "outputs": [
    {
     "name": "stdout",
     "output_type": "stream",
     "text": [
      "l\n",
      "w\n",
      "l\n",
      "w\n",
      "l\n",
      "w\n"
     ]
    }
   ],
   "source": [
    "for k, v in corrupted_dod.items():\n",
    "    for k1, v1 in v.items():\n",
    "        print(k1)"
   ]
  },
  {
   "cell_type": "code",
   "execution_count": 77,
   "id": "74a98743",
   "metadata": {},
   "outputs": [],
   "source": [
    "def fix_corrupt_data (df):\n",
    "    cleaned_corrupted_dod = {}\n",
    "\n",
    "    for k, v in df.items():\n",
    "        for k1, v1 in .items():\n",
    "            #print(v1)\n",
    "        #if (df[iv]) == 'zero':\n",
    "         #   print(df[iv])\n",
    "            #cleaned_corrupted_dod(df[iv]) == 0\n",
    "        #elif (df[iv]) == 'two':\n",
    "         #   cleaned_corrupted_dod(df[iv]) == 2\n",
    "        #else: \n",
    "         #   (df[iv]) = (df[iv])\n",
    "        print(cleaned_corrupted_dod)\n",
    "    return cleaned_corrupted_dod"
   ]
  },
  {
   "cell_type": "code",
   "execution_count": 78,
   "id": "d28dc678",
   "metadata": {},
   "outputs": [
    {
     "name": "stdout",
     "output_type": "stream",
     "text": [
      "2\n",
      "l\n"
     ]
    },
    {
     "ename": "TypeError",
     "evalue": "'NoneType' object is not subscriptable",
     "output_type": "error",
     "traceback": [
      "\u001b[0;31m---------------------------------------------------------------------------\u001b[0m",
      "\u001b[0;31mTypeError\u001b[0m                                 Traceback (most recent call last)",
      "\u001b[0;32m<ipython-input-78-ecd8e7a0a2b8>\u001b[0m in \u001b[0;36m<module>\u001b[0;34m\u001b[0m\n\u001b[0;32m----> 1\u001b[0;31m \u001b[0mfix_corrupt_data\u001b[0m\u001b[0;34m(\u001b[0m\u001b[0mcorrupted_dod\u001b[0m\u001b[0;34m)\u001b[0m\u001b[0;34m\u001b[0m\u001b[0;34m\u001b[0m\u001b[0m\n\u001b[0m",
      "\u001b[0;32m<ipython-input-77-b9e989dd1d48>\u001b[0m in \u001b[0;36mfix_corrupt_data\u001b[0;34m(df)\u001b[0m\n\u001b[1;32m      8\u001b[0m \u001b[0;34m\u001b[0m\u001b[0m\n\u001b[1;32m      9\u001b[0m     \u001b[0;31m#for ok, ik in df:\u001b[0m\u001b[0;34m\u001b[0m\u001b[0;34m\u001b[0m\u001b[0;34m\u001b[0m\u001b[0m\n\u001b[0;32m---> 10\u001b[0;31m             \u001b[0mprint\u001b[0m\u001b[0;34m(\u001b[0m\u001b[0mk1\u001b[0m\u001b[0;34m)\u001b[0m\u001b[0;34m[\u001b[0m\u001b[0mv1\u001b[0m\u001b[0;34m]\u001b[0m\u001b[0;34m\u001b[0m\u001b[0;34m\u001b[0m\u001b[0m\n\u001b[0m\u001b[1;32m     11\u001b[0m         \u001b[0;31m#print(df[ok][ik])\u001b[0m\u001b[0;34m\u001b[0m\u001b[0;34m\u001b[0m\u001b[0;34m\u001b[0m\u001b[0m\n\u001b[1;32m     12\u001b[0m         \u001b[0;31m#if (df[iv]) == 'zero':\u001b[0m\u001b[0;34m\u001b[0m\u001b[0;34m\u001b[0m\u001b[0;34m\u001b[0m\u001b[0m\n",
      "\u001b[0;31mTypeError\u001b[0m: 'NoneType' object is not subscriptable"
     ]
    }
   ],
   "source": [
    "fix_corrupt_data(corrupted_dod)"
   ]
  },
  {
   "cell_type": "code",
   "execution_count": null,
   "id": "cb6670ef",
   "metadata": {},
   "outputs": [],
   "source": []
  },
  {
   "cell_type": "code",
   "execution_count": 8,
   "id": "0401791a",
   "metadata": {},
   "outputs": [],
   "source": [
    "def clean_dod(dod):\n",
    "    return dod\n",
    "\n",
    "def text_to_num(text):\n",
    "    return text"
   ]
  },
  {
   "cell_type": "code",
   "execution_count": 9,
   "id": "fe6cd1ec",
   "metadata": {},
   "outputs": [
    {
     "ename": "AssertionError",
     "evalue": "",
     "output_type": "error",
     "traceback": [
      "\u001b[0;31m---------------------------------------------------------------------------\u001b[0m",
      "\u001b[0;31mAssertionError\u001b[0m                            Traceback (most recent call last)",
      "\u001b[0;32m<ipython-input-9-286e2a959264>\u001b[0m in \u001b[0;36m<module>\u001b[0;34m\u001b[0m\n\u001b[0;32m----> 1\u001b[0;31m \u001b[0;32massert\u001b[0m \u001b[0mtext_to_num\u001b[0m\u001b[0;34m(\u001b[0m\u001b[0;34m'four'\u001b[0m\u001b[0;34m)\u001b[0m \u001b[0;34m==\u001b[0m \u001b[0;36m4\u001b[0m\u001b[0;34m\u001b[0m\u001b[0;34m\u001b[0m\u001b[0m\n\u001b[0m",
      "\u001b[0;31mAssertionError\u001b[0m: "
     ]
    }
   ],
   "source": [
    "assert text_to_num('four') == 4"
   ]
  },
  {
   "cell_type": "code",
   "execution_count": 6,
   "id": "54a1b293",
   "metadata": {},
   "outputs": [
    {
     "ename": "NameError",
     "evalue": "name 'corrupted_dod' is not defined",
     "output_type": "error",
     "traceback": [
      "\u001b[0;31m---------------------------------------------------------------------------\u001b[0m",
      "\u001b[0;31mNameError\u001b[0m                                 Traceback (most recent call last)",
      "\u001b[0;32m<ipython-input-6-b3d0acc9bfd6>\u001b[0m in \u001b[0;36m<module>\u001b[0;34m\u001b[0m\n\u001b[0;32m----> 1\u001b[0;31m \u001b[0;32massert\u001b[0m \u001b[0mclean_dod\u001b[0m\u001b[0;34m(\u001b[0m\u001b[0mcorrupted_dod\u001b[0m\u001b[0;34m)\u001b[0m \u001b[0;34m==\u001b[0m \u001b[0mfixed_dod\u001b[0m\u001b[0;34m\u001b[0m\u001b[0;34m\u001b[0m\u001b[0m\n\u001b[0m",
      "\u001b[0;31mNameError\u001b[0m: name 'corrupted_dod' is not defined"
     ]
    }
   ],
   "source": [
    "assert clean_dod(corrupted_dod) == fixed_dod"
   ]
  },
  {
   "cell_type": "code",
   "execution_count": 7,
   "id": "4edea40d",
   "metadata": {},
   "outputs": [],
   "source": [
    "assert fixed_dod == fixed_dod"
   ]
  },
  {
   "cell_type": "code",
   "execution_count": null,
   "id": "81b17940",
   "metadata": {},
   "outputs": [],
   "source": []
  },
  {
   "cell_type": "code",
   "execution_count": null,
   "id": "81253452",
   "metadata": {},
   "outputs": [],
   "source": []
  },
  {
   "cell_type": "markdown",
   "id": "36dff2ef",
   "metadata": {},
   "source": [
    "## CSV to DoD"
   ]
  },
  {
   "cell_type": "code",
   "execution_count": 10,
   "id": "69712ba2",
   "metadata": {},
   "outputs": [],
   "source": [
    "# create a file on fs with this in it:"
   ]
  },
  {
   "cell_type": "raw",
   "id": "eef1f598",
   "metadata": {},
   "source": [
    "#for now, use nano, or if you're worthy, learn vi text editor\n",
    "a,b,c,d\n",
    "3,2,1,0\n",
    "6,4,2,1"
   ]
  },
  {
   "cell_type": "code",
   "execution_count": 15,
   "id": "94b6e560",
   "metadata": {},
   "outputs": [],
   "source": [
    "#convert the above to this format:\n",
    "lod = [{'a':3,\n",
    "       'b':2,\n",
    "       'c':1,\n",
    "       'd':0},\n",
    "       {'a':6,\n",
    "       'b':4,\n",
    "       'c':2,\n",
    "       'd':1,\n",
    "       }\n",
    "      ]"
   ]
  },
  {
   "cell_type": "code",
   "execution_count": 16,
   "id": "7bfd1d7f",
   "metadata": {},
   "outputs": [
    {
     "data": {
      "text/plain": [
       "{'a': 3, 'b': 2, 'c': 1, 'd': 0}"
      ]
     },
     "execution_count": 16,
     "metadata": {},
     "output_type": "execute_result"
    }
   ],
   "source": [
    "lod[0]"
   ]
  },
  {
   "cell_type": "code",
   "execution_count": null,
   "id": "ceefafcc",
   "metadata": {},
   "outputs": [],
   "source": []
  },
  {
   "cell_type": "markdown",
   "id": "61194b40",
   "metadata": {},
   "source": [
    "## 'cleaner' function"
   ]
  },
  {
   "cell_type": "code",
   "execution_count": 50,
   "id": "55e6b972",
   "metadata": {},
   "outputs": [],
   "source": [
    "def clean_val(val):\n",
    "    if isinstance(val,int):\n",
    "        return val\n",
    "    if isinstance(val,str) and val == 'three':\n",
    "        return 3\n",
    "    if isinstance(val,str):\n",
    "        return int(val)\n"
   ]
  },
  {
   "cell_type": "code",
   "execution_count": 51,
   "id": "c48f062c",
   "metadata": {},
   "outputs": [],
   "source": [
    "assert clean_val(3) == 3"
   ]
  },
  {
   "cell_type": "code",
   "execution_count": 52,
   "id": "a0779acb",
   "metadata": {},
   "outputs": [],
   "source": [
    "assert clean_val('3') == 3"
   ]
  },
  {
   "cell_type": "code",
   "execution_count": 53,
   "id": "5f0cfc8b",
   "metadata": {},
   "outputs": [],
   "source": [
    "assert clean_val('three') == 3"
   ]
  },
  {
   "cell_type": "code",
   "execution_count": 66,
   "id": "0bbff508",
   "metadata": {},
   "outputs": [],
   "source": [
    "num_strings = {'zero':0,\n",
    "              'one':1,\n",
    "              'two':2,\n",
    "              'three':3,\n",
    "              'four':4,\n",
    "              'five':5,\n",
    "              'six':6,\n",
    "              'seven':7,\n",
    "              'eight':8,\n",
    "              'nine':9,\n",
    "              'ten':10,          \n",
    "              }"
   ]
  },
  {
   "cell_type": "code",
   "execution_count": 70,
   "id": "8d7aea59",
   "metadata": {},
   "outputs": [
    {
     "name": "stdout",
     "output_type": "stream",
     "text": [
      "one 1\n",
      "two 2\n",
      "three 3\n",
      "four 4\n",
      "five 5\n",
      "six 6\n",
      "seven 7\n",
      "eight 8\n",
      "nine 9\n",
      "ten 10\n"
     ]
    }
   ],
   "source": [
    "for iv in num_strings:\n",
    "    print(iv, num_strings[iv])"
   ]
  },
  {
   "cell_type": "code",
   "execution_count": 73,
   "id": "df719daa",
   "metadata": {},
   "outputs": [],
   "source": [
    "def clean_val2(df):\n",
    "    for kv in df:\n",
    "        print(kv)"
   ]
  },
  {
   "cell_type": "code",
   "execution_count": 74,
   "id": "ed6ec612",
   "metadata": {},
   "outputs": [
    {
     "name": "stdout",
     "output_type": "stream",
     "text": [
      "one\n",
      "two\n",
      "three\n",
      "four\n",
      "five\n",
      "six\n",
      "seven\n",
      "eight\n",
      "nine\n",
      "ten\n"
     ]
    }
   ],
   "source": [
    "clean_val2(num_strings)"
   ]
  },
  {
   "cell_type": "code",
   "execution_count": 117,
   "id": "e97145f1",
   "metadata": {},
   "outputs": [
    {
     "data": {
      "text/plain": [
       "{'one': 1,\n",
       " 'two': 2,\n",
       " 'three': 3,\n",
       " 'four': 4,\n",
       " 'five': 5,\n",
       " 'six': 6,\n",
       " 'seven': 7,\n",
       " 'eight': 8,\n",
       " 'nine': 9,\n",
       " 'ten': 10}"
      ]
     },
     "execution_count": 117,
     "metadata": {},
     "output_type": "execute_result"
    }
   ],
   "source": [
    "num_strings"
   ]
  },
  {
   "cell_type": "code",
   "execution_count": 118,
   "id": "7c0c7a1d",
   "metadata": {},
   "outputs": [
    {
     "name": "stdout",
     "output_type": "stream",
     "text": [
      "2\n"
     ]
    },
    {
     "data": {
      "text/plain": [
       "2"
      ]
     },
     "execution_count": 118,
     "metadata": {},
     "output_type": "execute_result"
    }
   ],
   "source": [
    "clean_val2('2')"
   ]
  },
  {
   "cell_type": "code",
   "execution_count": 119,
   "id": "b17b83bc",
   "metadata": {},
   "outputs": [
    {
     "name": "stdout",
     "output_type": "stream",
     "text": [
      "2\n",
      "in first if\n"
     ]
    }
   ],
   "source": [
    "assert clean_val2(2) == 2"
   ]
  }
 ],
 "metadata": {
  "kernelspec": {
   "display_name": "Python 3",
   "language": "python",
   "name": "python3"
  },
  "language_info": {
   "codemirror_mode": {
    "name": "ipython",
    "version": 3
   },
   "file_extension": ".py",
   "mimetype": "text/x-python",
   "name": "python",
   "nbconvert_exporter": "python",
   "pygments_lexer": "ipython3",
   "version": "3.6.9"
  }
 },
 "nbformat": 4,
 "nbformat_minor": 5
}
