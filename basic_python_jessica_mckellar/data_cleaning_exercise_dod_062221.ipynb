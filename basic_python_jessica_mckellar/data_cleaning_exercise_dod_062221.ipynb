{
 "cells": [
  {
   "cell_type": "markdown",
   "id": "5c07a7f9",
   "metadata": {},
   "source": [
    "## data cleaning exercise:  dict of dicts"
   ]
  },
  {
   "cell_type": "code",
   "execution_count": 1,
   "id": "90abab2f",
   "metadata": {},
   "outputs": [],
   "source": [
    "num_strings = {'zero':0,\n",
    "              'one':1,\n",
    "              'two':2,\n",
    "              'three':3,\n",
    "              'four':4,\n",
    "              'five':5,\n",
    "              'six':6,\n",
    "              'seven':7,\n",
    "              'eight':8,\n",
    "              'nine':9,\n",
    "              'ten':10,          \n",
    "              }"
   ]
  },
  {
   "cell_type": "code",
   "execution_count": 2,
   "id": "6c784b58",
   "metadata": {},
   "outputs": [
    {
     "data": {
      "text/plain": [
       "5"
      ]
     },
     "execution_count": 2,
     "metadata": {},
     "output_type": "execute_result"
    }
   ],
   "source": [
    "def clean_val(val):\n",
    "    #print(val)\n",
    "    #returns the int of any number that is in int format\n",
    "    if isinstance(val,int):\n",
    "        #print('in first if')\n",
    "        return val\n",
    "    #returns the int of any number that has a key in the 'num_strings' dict\n",
    "    if isinstance(val,str) and val in (num_strings.keys()): \n",
    "        #print('in second if')\n",
    "        return num_strings[val]\n",
    "    #returns the int of any number in string format\n",
    "    if isinstance(val,str):\n",
    "        #print('in third if')\n",
    "        return int(val)\n",
    "clean_val('five')"
   ]
  },
  {
   "cell_type": "code",
   "execution_count": 3,
   "id": "bf1956c5",
   "metadata": {},
   "outputs": [],
   "source": [
    "assert clean_val(2) == 2\n",
    "assert clean_val('2') == 2\n",
    "assert clean_val('two') == 2"
   ]
  },
  {
   "cell_type": "markdown",
   "id": "f119795f",
   "metadata": {},
   "source": [
    "##### goal is to convert non-int vals in the below ugly sucker to ints"
   ]
  },
  {
   "cell_type": "code",
   "execution_count": 4,
   "id": "e06be20e",
   "metadata": {},
   "outputs": [],
   "source": [
    "corrupted_dod = {'a1':{'l':2,\n",
    "                     'w':'4',},\n",
    "               'b1':{'l':'zero',\n",
    "                    'w':'three',},\n",
    "               'c1':{'l':'five',\n",
    "                    'w':'nine',},\n",
    "\n",
    "                }"
   ]
  },
  {
   "cell_type": "markdown",
   "id": "814927df",
   "metadata": {},
   "source": [
    "#### these are the outer dict keys"
   ]
  },
  {
   "cell_type": "code",
   "execution_count": 5,
   "id": "72239fab",
   "metadata": {},
   "outputs": [
    {
     "data": {
      "text/plain": [
       "dict_keys(['a1', 'b1', 'c1'])"
      ]
     },
     "execution_count": 5,
     "metadata": {},
     "output_type": "execute_result"
    }
   ],
   "source": [
    "corrupted_dod.keys()"
   ]
  },
  {
   "cell_type": "code",
   "execution_count": 6,
   "id": "d26bfade",
   "metadata": {},
   "outputs": [
    {
     "data": {
      "text/plain": [
       "dict_items([('a1', {'l': 2, 'w': '4'}), ('b1', {'l': 'zero', 'w': 'three'}), ('c1', {'l': 'five', 'w': 'nine'})])"
      ]
     },
     "execution_count": 6,
     "metadata": {},
     "output_type": "execute_result"
    }
   ],
   "source": [
    "corrupted_dod.items()"
   ]
  },
  {
   "cell_type": "markdown",
   "id": "f43ae083",
   "metadata": {},
   "source": [
    "#### below values are the nested dicts"
   ]
  },
  {
   "cell_type": "code",
   "execution_count": 7,
   "id": "9978de42",
   "metadata": {},
   "outputs": [
    {
     "data": {
      "text/plain": [
       "dict_values([{'l': 2, 'w': '4'}, {'l': 'zero', 'w': 'three'}, {'l': 'five', 'w': 'nine'}])"
      ]
     },
     "execution_count": 7,
     "metadata": {},
     "output_type": "execute_result"
    }
   ],
   "source": [
    "corrupted_dod.values()"
   ]
  },
  {
   "cell_type": "markdown",
   "id": "8b0389c9",
   "metadata": {},
   "source": [
    "#### get all keys and values"
   ]
  },
  {
   "cell_type": "code",
   "execution_count": 8,
   "id": "12b65675",
   "metadata": {},
   "outputs": [
    {
     "name": "stdout",
     "output_type": "stream",
     "text": [
      "this is the outer key a1   this is the outer value {'l': 2, 'w': '4'}   this is an inner key: l     this is the inner value 2\n",
      "this is the outer key a1   this is the outer value {'l': 2, 'w': '4'}   this is an inner key: w     this is the inner value 4\n",
      "this is the outer key b1   this is the outer value {'l': 'zero', 'w': 'three'}   this is an inner key: l     this is the inner value zero\n",
      "this is the outer key b1   this is the outer value {'l': 'zero', 'w': 'three'}   this is an inner key: w     this is the inner value three\n",
      "this is the outer key c1   this is the outer value {'l': 'five', 'w': 'nine'}   this is an inner key: l     this is the inner value five\n",
      "this is the outer key c1   this is the outer value {'l': 'five', 'w': 'nine'}   this is an inner key: w     this is the inner value nine\n"
     ]
    }
   ],
   "source": [
    "for k, v in corrupted_dod.items():\n",
    "    for k1, v1 in v.items():\n",
    "        print('this is the outer key', k,' ', 'this is the outer value', v,' ', 'this is an inner key:', k1, '   ','this is the inner value', v1)"
   ]
  },
  {
   "cell_type": "markdown",
   "id": "4bb548c8",
   "metadata": {},
   "source": [
    "#### break corrupted_dod into just 1 inner dict"
   ]
  },
  {
   "cell_type": "code",
   "execution_count": 27,
   "id": "bc314fea",
   "metadata": {},
   "outputs": [],
   "source": [
    "test1 = corrupted_dod['c1']"
   ]
  },
  {
   "cell_type": "code",
   "execution_count": 28,
   "id": "505bbbc4",
   "metadata": {},
   "outputs": [
    {
     "data": {
      "text/plain": [
       "{'l': 'five', 'w': 'nine'}"
      ]
     },
     "execution_count": 28,
     "metadata": {},
     "output_type": "execute_result"
    }
   ],
   "source": [
    "test1"
   ]
  },
  {
   "cell_type": "code",
   "execution_count": 29,
   "id": "bfa023b9",
   "metadata": {},
   "outputs": [],
   "source": [
    "def clean_dict(d):\n",
    "    clean_dict = {}\n",
    "    for k, v in d.items():\n",
    "        print(k,v)\n",
    "        clean_dict[k] = clean_val(v)\n",
    "    return clean_dict"
   ]
  },
  {
   "cell_type": "code",
   "execution_count": 30,
   "id": "23368421",
   "metadata": {},
   "outputs": [
    {
     "name": "stdout",
     "output_type": "stream",
     "text": [
      "l five\n",
      "w nine\n"
     ]
    },
    {
     "data": {
      "text/plain": [
       "{'l': 5, 'w': 9}"
      ]
     },
     "execution_count": 30,
     "metadata": {},
     "output_type": "execute_result"
    }
   ],
   "source": [
    "clean_dict(test1)"
   ]
  },
  {
   "cell_type": "markdown",
   "id": "e4005f8b",
   "metadata": {},
   "source": [
    "#### create function to clean all nested dicts"
   ]
  },
  {
   "cell_type": "code",
   "execution_count": 33,
   "id": "61491ef6",
   "metadata": {},
   "outputs": [],
   "source": [
    "def clean_dod(dod):\n",
    "    clean_dod = {}\n",
    "    for k, v in dod.items():\n",
    "        print(k,v)\n",
    "        clean_dod[k] = clean_dict(v)\n",
    "    return clean_dod"
   ]
  },
  {
   "cell_type": "code",
   "execution_count": 34,
   "id": "3f799ddf",
   "metadata": {},
   "outputs": [
    {
     "name": "stdout",
     "output_type": "stream",
     "text": [
      "a1 {'l': 2, 'w': '4'}\n",
      "l 2\n",
      "w 4\n",
      "b1 {'l': 'zero', 'w': 'three'}\n",
      "l zero\n",
      "w three\n",
      "c1 {'l': 'five', 'w': 'nine'}\n",
      "l five\n",
      "w nine\n"
     ]
    },
    {
     "data": {
      "text/plain": [
       "{'a1': {'l': 2, 'w': 4}, 'b1': {'l': 0, 'w': 3}, 'c1': {'l': 5, 'w': 9}}"
      ]
     },
     "execution_count": 34,
     "metadata": {},
     "output_type": "execute_result"
    }
   ],
   "source": [
    "clean_dod(corrupted_dod)"
   ]
  },
  {
   "cell_type": "code",
   "execution_count": null,
   "id": "9e083760",
   "metadata": {},
   "outputs": [],
   "source": []
  },
  {
   "cell_type": "code",
   "execution_count": null,
   "id": "8f601f63",
   "metadata": {},
   "outputs": [],
   "source": []
  },
  {
   "cell_type": "code",
   "execution_count": null,
   "id": "32a536c4",
   "metadata": {},
   "outputs": [],
   "source": []
  },
  {
   "cell_type": "code",
   "execution_count": null,
   "id": "8748dd14",
   "metadata": {},
   "outputs": [],
   "source": []
  }
 ],
 "metadata": {
  "kernelspec": {
   "display_name": "Python 3",
   "language": "python",
   "name": "python3"
  },
  "language_info": {
   "codemirror_mode": {
    "name": "ipython",
    "version": 3
   },
   "file_extension": ".py",
   "mimetype": "text/x-python",
   "name": "python",
   "nbconvert_exporter": "python",
   "pygments_lexer": "ipython3",
   "version": "3.6.9"
  }
 },
 "nbformat": 4,
 "nbformat_minor": 5
}
