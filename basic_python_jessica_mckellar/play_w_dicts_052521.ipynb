{
 "cells": [
  {
   "cell_type": "markdown",
   "id": "0a80d259",
   "metadata": {},
   "source": [
    "# Play with data structures"
   ]
  },
  {
   "cell_type": "markdown",
   "id": "31f99424",
   "metadata": {},
   "source": [
    "### populate empty dict"
   ]
  },
  {
   "cell_type": "code",
   "execution_count": 52,
   "id": "9c7acddc",
   "metadata": {},
   "outputs": [],
   "source": [
    "my_dict = {'a': [], 'b': [], 'c': []}"
   ]
  },
  {
   "cell_type": "code",
   "execution_count": 53,
   "id": "a4953aec",
   "metadata": {},
   "outputs": [
    {
     "name": "stdout",
     "output_type": "stream",
     "text": [
      "{'a': [], 'b': [], 'c': []}\n"
     ]
    }
   ],
   "source": [
    "print(my_dict)"
   ]
  },
  {
   "cell_type": "code",
   "execution_count": 54,
   "id": "bcd7b45b",
   "metadata": {},
   "outputs": [],
   "source": [
    "list1 = ['1', '2']"
   ]
  },
  {
   "cell_type": "code",
   "execution_count": 55,
   "id": "82e5743b",
   "metadata": {},
   "outputs": [],
   "source": [
    "my_dict['a'].append(list1)"
   ]
  },
  {
   "cell_type": "code",
   "execution_count": 56,
   "id": "7308e6fd",
   "metadata": {},
   "outputs": [
    {
     "data": {
      "text/plain": [
       "{'a': [['1', '2']], 'b': [], 'c': []}"
      ]
     },
     "execution_count": 56,
     "metadata": {},
     "output_type": "execute_result"
    }
   ],
   "source": [
    "my_dict"
   ]
  },
  {
   "cell_type": "code",
   "execution_count": 57,
   "id": "fbffa53d",
   "metadata": {},
   "outputs": [],
   "source": [
    "list2 = ['3','4','5','6']"
   ]
  },
  {
   "cell_type": "code",
   "execution_count": 58,
   "id": "83383cfc",
   "metadata": {},
   "outputs": [],
   "source": [
    "my_dict['b'].append(list2)"
   ]
  },
  {
   "cell_type": "code",
   "execution_count": 59,
   "id": "ce3582c3",
   "metadata": {},
   "outputs": [
    {
     "data": {
      "text/plain": [
       "{'a': [['1', '2']], 'b': [['3', '4', '5', '6']], 'c': []}"
      ]
     },
     "execution_count": 59,
     "metadata": {},
     "output_type": "execute_result"
    }
   ],
   "source": [
    "my_dict"
   ]
  },
  {
   "cell_type": "code",
   "execution_count": 60,
   "id": "007f0681",
   "metadata": {},
   "outputs": [],
   "source": [
    "list3 = ['b','7','8','z']"
   ]
  },
  {
   "cell_type": "code",
   "execution_count": 61,
   "id": "ef3eca65",
   "metadata": {},
   "outputs": [],
   "source": [
    "my_dict['c'].append(list3)"
   ]
  },
  {
   "cell_type": "code",
   "execution_count": 62,
   "id": "ae920968",
   "metadata": {},
   "outputs": [
    {
     "data": {
      "text/plain": [
       "{'a': [['1', '2']], 'b': [['3', '4', '5', '6']], 'c': [['b', '7', '8', 'z']]}"
      ]
     },
     "execution_count": 62,
     "metadata": {},
     "output_type": "execute_result"
    }
   ],
   "source": [
    "my_dict"
   ]
  },
  {
   "cell_type": "code",
   "execution_count": 63,
   "id": "8c58ed4f",
   "metadata": {},
   "outputs": [
    {
     "name": "stdout",
     "output_type": "stream",
     "text": [
      "dict_values([[['1', '2']], [['3', '4', '5', '6']], [['b', '7', '8', 'z']]])\n"
     ]
    }
   ],
   "source": [
    "print(my_dict.values())"
   ]
  },
  {
   "cell_type": "code",
   "execution_count": 64,
   "id": "09a41a09",
   "metadata": {},
   "outputs": [
    {
     "name": "stdout",
     "output_type": "stream",
     "text": [
      "a [['1', '2']]\n",
      "b [['3', '4', '5', '6']]\n",
      "c [['b', '7', '8', 'z']]\n"
     ]
    }
   ],
   "source": [
    "for i in my_dict:\n",
    "    print(i, my_dict[i])"
   ]
  },
  {
   "cell_type": "code",
   "execution_count": 69,
   "id": "641905a7",
   "metadata": {},
   "outputs": [
    {
     "data": {
      "text/plain": [
       "[['3', '4', '5', '6']]"
      ]
     },
     "execution_count": 69,
     "metadata": {},
     "output_type": "execute_result"
    }
   ],
   "source": [
    "my_dict['b']"
   ]
  },
  {
   "cell_type": "markdown",
   "id": "144eeb69",
   "metadata": {},
   "source": [
    "### convert str ints to ints"
   ]
  },
  {
   "cell_type": "code",
   "execution_count": 70,
   "id": "5e40f405",
   "metadata": {},
   "outputs": [],
   "source": [
    "def convert_str_to_int(list):\n",
    "    new_dict = {}\n",
    "    new_list = []\n",
    "    #for iv in list:\n",
    "    #    new_dict[iv] = (int(list))\n",
    "    #return new_dict\n",
    "    my_dict['b'] = new_list\n",
    "    print(new_list)"
   ]
  },
  {
   "cell_type": "code",
   "execution_count": 71,
   "id": "0e14368b",
   "metadata": {},
   "outputs": [
    {
     "name": "stdout",
     "output_type": "stream",
     "text": [
      "[]\n"
     ]
    }
   ],
   "source": [
    "convert_str_to_int(my_dict)"
   ]
  }
 ],
 "metadata": {
  "kernelspec": {
   "display_name": "Python 3",
   "language": "python",
   "name": "python3"
  },
  "language_info": {
   "codemirror_mode": {
    "name": "ipython",
    "version": 3
   },
   "file_extension": ".py",
   "mimetype": "text/x-python",
   "name": "python",
   "nbconvert_exporter": "python",
   "pygments_lexer": "ipython3",
   "version": "3.6.9"
  }
 },
 "nbformat": 4,
 "nbformat_minor": 5
}
