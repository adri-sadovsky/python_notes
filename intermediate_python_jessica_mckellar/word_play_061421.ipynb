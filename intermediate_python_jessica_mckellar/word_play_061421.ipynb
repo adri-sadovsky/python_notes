{
 "cells": [
  {
   "cell_type": "code",
   "execution_count": 17,
   "id": "633b6b05",
   "metadata": {},
   "outputs": [],
   "source": [
    "word_file = 'sowpods.txt'"
   ]
  },
  {
   "cell_type": "code",
   "execution_count": 20,
   "id": "234f04fd",
   "metadata": {},
   "outputs": [],
   "source": [
    "wordlist = []\n",
    "\n",
    "with open(word_file) as fh:\n",
    "    for line in fh:\n",
    "        word = line.lower().strip()\n",
    "        #print(word)\n",
    "        wordlist.append(word)\n",
    "    #print(wordlist)"
   ]
  },
  {
   "cell_type": "code",
   "execution_count": 1,
   "id": "6cf9f8ae",
   "metadata": {},
   "outputs": [],
   "source": [
    "word = 'banana'"
   ]
  },
  {
   "cell_type": "code",
   "execution_count": 2,
   "id": "2fde4b5b",
   "metadata": {},
   "outputs": [
    {
     "data": {
      "text/plain": [
       "6"
      ]
     },
     "execution_count": 2,
     "metadata": {},
     "output_type": "execute_result"
    }
   ],
   "source": [
    "len(word)"
   ]
  },
  {
   "cell_type": "code",
   "execution_count": 3,
   "id": "08782fcc",
   "metadata": {},
   "outputs": [
    {
     "data": {
      "text/plain": [
       "range(0, 6)"
      ]
     },
     "execution_count": 3,
     "metadata": {},
     "output_type": "execute_result"
    }
   ],
   "source": [
    "range(len(word))"
   ]
  },
  {
   "cell_type": "code",
   "execution_count": 4,
   "id": "5f2d4eed",
   "metadata": {},
   "outputs": [
    {
     "name": "stdout",
     "output_type": "stream",
     "text": [
      "0\n",
      "1\n",
      "2\n",
      "3\n",
      "4\n",
      "5\n"
     ]
    }
   ],
   "source": [
    "for index in range(len(word)):\n",
    "    print(index)"
   ]
  },
  {
   "cell_type": "code",
   "execution_count": 7,
   "id": "416e0eb1",
   "metadata": {},
   "outputs": [
    {
     "data": {
      "text/plain": [
       "['a', 'n', 'a', 'n', 'a', 'b']"
      ]
     },
     "execution_count": 7,
     "metadata": {},
     "output_type": "execute_result"
    }
   ],
   "source": [
    "list(reversed(word))"
   ]
  },
  {
   "cell_type": "code",
   "execution_count": 42,
   "id": "8e010896",
   "metadata": {},
   "outputs": [],
   "source": [
    "word = 'radar'"
   ]
  },
  {
   "cell_type": "code",
   "execution_count": 43,
   "id": "69798b96",
   "metadata": {},
   "outputs": [
    {
     "data": {
      "text/plain": [
       "'r'"
      ]
     },
     "execution_count": 43,
     "metadata": {},
     "output_type": "execute_result"
    }
   ],
   "source": [
    "word[0]"
   ]
  },
  {
   "cell_type": "code",
   "execution_count": 44,
   "id": "7abb24a5",
   "metadata": {},
   "outputs": [
    {
     "data": {
      "text/plain": [
       "'a'"
      ]
     },
     "execution_count": 44,
     "metadata": {},
     "output_type": "execute_result"
    }
   ],
   "source": [
    "word[1]"
   ]
  },
  {
   "cell_type": "code",
   "execution_count": 45,
   "id": "ba3edb36",
   "metadata": {},
   "outputs": [
    {
     "data": {
      "text/plain": [
       "'r'"
      ]
     },
     "execution_count": 45,
     "metadata": {},
     "output_type": "execute_result"
    }
   ],
   "source": [
    "word[-1]"
   ]
  },
  {
   "cell_type": "code",
   "execution_count": 46,
   "id": "7e77e90f",
   "metadata": {},
   "outputs": [
    {
     "data": {
      "text/plain": [
       "'a'"
      ]
     },
     "execution_count": 46,
     "metadata": {},
     "output_type": "execute_result"
    }
   ],
   "source": [
    "word[-2]"
   ]
  },
  {
   "cell_type": "code",
   "execution_count": 47,
   "id": "ce57db92",
   "metadata": {},
   "outputs": [
    {
     "data": {
      "text/plain": [
       "True"
      ]
     },
     "execution_count": 47,
     "metadata": {},
     "output_type": "execute_result"
    }
   ],
   "source": [
    "word[0] == word[-1]"
   ]
  },
  {
   "cell_type": "code",
   "execution_count": 48,
   "id": "e4d9b6f4",
   "metadata": {},
   "outputs": [
    {
     "name": "stdout",
     "output_type": "stream",
     "text": [
      "0\n",
      "1\n",
      "2\n",
      "3\n",
      "4\n"
     ]
    }
   ],
   "source": [
    "for index in range(len(word)):\n",
    "    print(index)"
   ]
  },
  {
   "cell_type": "code",
   "execution_count": 77,
   "id": "b2e03f47",
   "metadata": {},
   "outputs": [
    {
     "name": "stdout",
     "output_type": "stream",
     "text": [
      "rotavator\n"
     ]
    }
   ],
   "source": [
    "is_palindrome = ''\n",
    "longest_word = ''\n",
    "\n",
    "for word in wordlist:\n",
    "    is_palindrome = True\n",
    "    for index in range(len(word)):\n",
    "        if word[index] != word[-(index+1)]:\n",
    "            is_palindrome = False\n",
    "    if is_palindrome and len(word) > len(longest_word):\n",
    "        longest_word = word\n",
    "print(longest_word)"
   ]
  },
  {
   "cell_type": "code",
   "execution_count": 79,
   "id": "001849b1",
   "metadata": {},
   "outputs": [],
   "source": [
    "word = 'radar'"
   ]
  },
  {
   "cell_type": "code",
   "execution_count": 80,
   "id": "8788cd34",
   "metadata": {},
   "outputs": [
    {
     "data": {
      "text/plain": [
       "True"
      ]
     },
     "execution_count": 80,
     "metadata": {},
     "output_type": "execute_result"
    }
   ],
   "source": [
    "list(word) == list(reversed(word))"
   ]
  },
  {
   "cell_type": "code",
   "execution_count": 81,
   "id": "532cb324",
   "metadata": {},
   "outputs": [
    {
     "name": "stdout",
     "output_type": "stream",
     "text": [
      "rotavator\n"
     ]
    }
   ],
   "source": [
    "is_palindrome = ''\n",
    "longest_word = ''\n",
    "\n",
    "for word in wordlist:\n",
    "    if list(word) == list(reversed(word)) and len(word) > len(longest_word):\n",
    "        longest_word = word\n",
    "print(longest_word)"
   ]
  },
  {
   "cell_type": "code",
   "execution_count": 85,
   "id": "e5c90fe9",
   "metadata": {},
   "outputs": [],
   "source": [
    "word = 'radar'"
   ]
  },
  {
   "cell_type": "code",
   "execution_count": 86,
   "id": "40b23c03",
   "metadata": {},
   "outputs": [
    {
     "data": {
      "text/plain": [
       "True"
      ]
     },
     "execution_count": 86,
     "metadata": {},
     "output_type": "execute_result"
    }
   ],
   "source": [
    "word == word[::-1]"
   ]
  },
  {
   "cell_type": "code",
   "execution_count": 93,
   "id": "720c3448",
   "metadata": {},
   "outputs": [
    {
     "name": "stdout",
     "output_type": "stream",
     "text": [
      "rotavator\n"
     ]
    }
   ],
   "source": [
    "is_palindrome = ''\n",
    "longest_word = ''\n",
    "\n",
    "for word in wordlist:\n",
    "    if (word == word[::-1]) & (len(word) > len(longest_word)):\n",
    "        longest_word = word\n",
    "print(longest_word)"
   ]
  },
  {
   "cell_type": "code",
   "execution_count": 94,
   "id": "23ab5c0f",
   "metadata": {},
   "outputs": [],
   "source": [
    "my_dict = {'Adam':'apples', 'Quinn':'pears','Porter':'bananas'}"
   ]
  },
  {
   "cell_type": "code",
   "execution_count": 95,
   "id": "36ed3596",
   "metadata": {},
   "outputs": [
    {
     "data": {
      "text/plain": [
       "{'Adam': 'apples', 'Quinn': 'pears', 'Porter': 'bananas'}"
      ]
     },
     "execution_count": 95,
     "metadata": {},
     "output_type": "execute_result"
    }
   ],
   "source": [
    "my_dict"
   ]
  },
  {
   "cell_type": "code",
   "execution_count": 96,
   "id": "46edd9af",
   "metadata": {},
   "outputs": [
    {
     "data": {
      "text/plain": [
       "'bananas'"
      ]
     },
     "execution_count": 96,
     "metadata": {},
     "output_type": "execute_result"
    }
   ],
   "source": [
    "my_dict['Porter']"
   ]
  },
  {
   "cell_type": "code",
   "execution_count": 97,
   "id": "7209b66c",
   "metadata": {},
   "outputs": [],
   "source": [
    "my_dict['Porter'] = 'oranges'"
   ]
  },
  {
   "cell_type": "code",
   "execution_count": 98,
   "id": "9ecb29cd",
   "metadata": {},
   "outputs": [
    {
     "data": {
      "text/plain": [
       "{'Adam': 'apples', 'Quinn': 'pears', 'Porter': 'oranges'}"
      ]
     },
     "execution_count": 98,
     "metadata": {},
     "output_type": "execute_result"
    }
   ],
   "source": [
    "my_dict"
   ]
  },
  {
   "cell_type": "code",
   "execution_count": null,
   "id": "85c147d5",
   "metadata": {},
   "outputs": [],
   "source": []
  }
 ],
 "metadata": {
  "kernelspec": {
   "display_name": "Python 3",
   "language": "python",
   "name": "python3"
  },
  "language_info": {
   "codemirror_mode": {
    "name": "ipython",
    "version": 3
   },
   "file_extension": ".py",
   "mimetype": "text/x-python",
   "name": "python",
   "nbconvert_exporter": "python",
   "pygments_lexer": "ipython3",
   "version": "3.6.9"
  }
 },
 "nbformat": 4,
 "nbformat_minor": 5
}
