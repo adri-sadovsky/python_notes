{
 "cells": [
  {
   "cell_type": "markdown",
   "id": "a0c95d9c",
   "metadata": {},
   "source": [
    "## Work Based on Jessica McKellar's Intermediate Python Jeopardy Play"
   ]
  },
  {
   "cell_type": "markdown",
   "id": "4189875d",
   "metadata": {},
   "source": [
    "### In this notebook, I am messing around with data frames, code, etc...  \n",
    "#### integration of sqlite in Python\n",
    "#### moving data from one data structure to another\n",
    "#### refactoring to streamline code "
   ]
  },
  {
   "cell_type": "code",
   "execution_count": 13,
   "id": "7e7a36a1",
   "metadata": {},
   "outputs": [],
   "source": [
    "import sqlite3"
   ]
  },
  {
   "cell_type": "code",
   "execution_count": 14,
   "id": "c9d3eb7a",
   "metadata": {},
   "outputs": [],
   "source": [
    "connection = sqlite3.connect('jeopardy.db')"
   ]
  },
  {
   "cell_type": "code",
   "execution_count": 15,
   "id": "8e4878e3",
   "metadata": {},
   "outputs": [
    {
     "data": {
      "text/plain": [
       "sqlite3.Connection"
      ]
     },
     "execution_count": 15,
     "metadata": {},
     "output_type": "execute_result"
    }
   ],
   "source": [
    "type(connection)"
   ]
  },
  {
   "cell_type": "code",
   "execution_count": 16,
   "id": "7656bc5e",
   "metadata": {},
   "outputs": [],
   "source": [
    "cursor = connection.cursor()"
   ]
  },
  {
   "cell_type": "code",
   "execution_count": 17,
   "id": "64baa539",
   "metadata": {},
   "outputs": [
    {
     "data": {
      "text/plain": [
       "<sqlite3.Cursor at 0x7f1be2a79490>"
      ]
     },
     "execution_count": 17,
     "metadata": {},
     "output_type": "execute_result"
    }
   ],
   "source": [
    "cursor.execute('SELECT name FROM category')"
   ]
  },
  {
   "cell_type": "code",
   "execution_count": 18,
   "id": "d7f55cfa",
   "metadata": {},
   "outputs": [],
   "source": [
    "results = cursor.fetchall()"
   ]
  },
  {
   "cell_type": "code",
   "execution_count": 19,
   "id": "ca9b44c7",
   "metadata": {
    "scrolled": true
   },
   "outputs": [],
   "source": [
    "#results"
   ]
  },
  {
   "cell_type": "code",
   "execution_count": 20,
   "id": "39b9a389",
   "metadata": {},
   "outputs": [
    {
     "data": {
      "text/plain": [
       "('ASIAN HISTORY',)"
      ]
     },
     "execution_count": 20,
     "metadata": {},
     "output_type": "execute_result"
    }
   ],
   "source": [
    "results[2]"
   ]
  },
  {
   "cell_type": "code",
   "execution_count": 47,
   "id": "75798c43",
   "metadata": {},
   "outputs": [],
   "source": [
    "#for category in results:\n",
    "#    print(category[0])"
   ]
  },
  {
   "cell_type": "code",
   "execution_count": 22,
   "id": "bf68a2b0",
   "metadata": {},
   "outputs": [],
   "source": [
    "#cursor.execute('SELECT text, answer, value FROM clue').fetchall()"
   ]
  },
  {
   "cell_type": "code",
   "execution_count": 23,
   "id": "c55f810c",
   "metadata": {},
   "outputs": [],
   "source": [
    "results = cursor.fetchall()"
   ]
  },
  {
   "cell_type": "markdown",
   "id": "b5af999f",
   "metadata": {},
   "source": [
    "#### transform list of tuples into dict of lists"
   ]
  },
  {
   "cell_type": "code",
   "execution_count": 24,
   "id": "7de7f802",
   "metadata": {},
   "outputs": [],
   "source": [
    "sql_query = f'''SELECT text, answer, value \n",
    "                FROM clue\n",
    "                '''\n",
    "data_dump = cursor.execute(sql_query).fetchall()"
   ]
  },
  {
   "cell_type": "code",
   "execution_count": 25,
   "id": "cc4a011f",
   "metadata": {},
   "outputs": [
    {
     "data": {
      "text/plain": [
       "[('The original author’s last story about this detective was “The Adventure of Shoscombe Old Place”',\n",
       "  'Sherlock Holmes',\n",
       "  200),\n",
       " ('In “The Big Sleep” he says, “I’m 33 years old, went to college once & can still speak English if there’s any demand for it”',\n",
       "  'Marlowe',\n",
       "  400)]"
      ]
     },
     "execution_count": 25,
     "metadata": {},
     "output_type": "execute_result"
    }
   ],
   "source": [
    "data_dump[:2]"
   ]
  },
  {
   "cell_type": "code",
   "execution_count": 38,
   "id": "d1f2994c",
   "metadata": {},
   "outputs": [
    {
     "name": "stdout",
     "output_type": "stream",
     "text": [
      "0 text\n",
      "1 answer\n",
      "2 value\n"
     ]
    }
   ],
   "source": [
    "dict_of_lists = {'text':[],\n",
    "                'answer': [],\n",
    "                'value': [],\n",
    "                }\n",
    "for i , header in enumerate(dict_of_lists):\n",
    "    print(i, header)\n",
    "    for row in data_dump:\n",
    "        dict_of_lists[header].append(row[i])"
   ]
  },
  {
   "cell_type": "code",
   "execution_count": 43,
   "id": "f04686ac",
   "metadata": {},
   "outputs": [],
   "source": [
    "#dict_of_lists['value']"
   ]
  },
  {
   "cell_type": "code",
   "execution_count": 45,
   "id": "acc0b786",
   "metadata": {},
   "outputs": [
    {
     "data": {
      "text/plain": [
       "dict_keys(['text', 'answer', 'value'])"
      ]
     },
     "execution_count": 45,
     "metadata": {},
     "output_type": "execute_result"
    }
   ],
   "source": [
    "dict_of_lists.keys()"
   ]
  },
  {
   "cell_type": "markdown",
   "id": "ad76ad07",
   "metadata": {},
   "source": [
    "#### verify dataframe is legit"
   ]
  },
  {
   "cell_type": "code",
   "execution_count": 46,
   "id": "d4682a38",
   "metadata": {},
   "outputs": [
    {
     "data": {
      "text/html": [
       "<div>\n",
       "<style scoped>\n",
       "    .dataframe tbody tr th:only-of-type {\n",
       "        vertical-align: middle;\n",
       "    }\n",
       "\n",
       "    .dataframe tbody tr th {\n",
       "        vertical-align: top;\n",
       "    }\n",
       "\n",
       "    .dataframe thead th {\n",
       "        text-align: right;\n",
       "    }\n",
       "</style>\n",
       "<table border=\"1\" class=\"dataframe\">\n",
       "  <thead>\n",
       "    <tr style=\"text-align: right;\">\n",
       "      <th></th>\n",
       "      <th>text</th>\n",
       "      <th>answer</th>\n",
       "      <th>value</th>\n",
       "    </tr>\n",
       "  </thead>\n",
       "  <tbody>\n",
       "    <tr>\n",
       "      <th>0</th>\n",
       "      <td>The original author’s last story about this de...</td>\n",
       "      <td>Sherlock Holmes</td>\n",
       "      <td>200</td>\n",
       "    </tr>\n",
       "    <tr>\n",
       "      <th>1</th>\n",
       "      <td>In “The Big Sleep” he says, “I’m 33 years old,...</td>\n",
       "      <td>Marlowe</td>\n",
       "      <td>400</td>\n",
       "    </tr>\n",
       "    <tr>\n",
       "      <th>2</th>\n",
       "      <td>In the April 1841 Graham’s Lady’s and Gentlema...</td>\n",
       "      <td>Poe</td>\n",
       "      <td>600</td>\n",
       "    </tr>\n",
       "    <tr>\n",
       "      <th>3</th>\n",
       "      <td>Let's all flock to read Psalm 95, in which hum...</td>\n",
       "      <td>sheep</td>\n",
       "      <td>200</td>\n",
       "    </tr>\n",
       "    <tr>\n",
       "      <th>4</th>\n",
       "      <td>Some say the screech owl in the King James Bib...</td>\n",
       "      <td>Adam</td>\n",
       "      <td>400</td>\n",
       "    </tr>\n",
       "    <tr>\n",
       "      <th>...</th>\n",
       "      <td>...</td>\n",
       "      <td>...</td>\n",
       "      <td>...</td>\n",
       "    </tr>\n",
       "    <tr>\n",
       "      <th>130364</th>\n",
       "      <td>He concluded a 1775 speech, \"But as for me, gi...</td>\n",
       "      <td>Patrick Henry</td>\n",
       "      <td>200</td>\n",
       "    </tr>\n",
       "    <tr>\n",
       "      <th>130365</th>\n",
       "      <td>Before his own death, this pop artist said, \"D...</td>\n",
       "      <td>Andy Warhol</td>\n",
       "      <td>400</td>\n",
       "    </tr>\n",
       "    <tr>\n",
       "      <th>130366</th>\n",
       "      <td>He told James Boswell, \"The better a man is, t...</td>\n",
       "      <td>Samuel Johnson</td>\n",
       "      <td>600</td>\n",
       "    </tr>\n",
       "    <tr>\n",
       "      <th>130367</th>\n",
       "      <td>Ernest Hemingway called it \"The only art in wh...</td>\n",
       "      <td>Bullfighting</td>\n",
       "      <td>1900</td>\n",
       "    </tr>\n",
       "    <tr>\n",
       "      <th>130368</th>\n",
       "      <td>A 900-year-old organization expelled in 1798 w...</td>\n",
       "      <td>Malta</td>\n",
       "      <td>0</td>\n",
       "    </tr>\n",
       "  </tbody>\n",
       "</table>\n",
       "<p>130369 rows × 3 columns</p>\n",
       "</div>"
      ],
      "text/plain": [
       "                                                     text           answer  \\\n",
       "0       The original author’s last story about this de...  Sherlock Holmes   \n",
       "1       In “The Big Sleep” he says, “I’m 33 years old,...          Marlowe   \n",
       "2       In the April 1841 Graham’s Lady’s and Gentlema...              Poe   \n",
       "3       Let's all flock to read Psalm 95, in which hum...            sheep   \n",
       "4       Some say the screech owl in the King James Bib...             Adam   \n",
       "...                                                   ...              ...   \n",
       "130364  He concluded a 1775 speech, \"But as for me, gi...    Patrick Henry   \n",
       "130365  Before his own death, this pop artist said, \"D...      Andy Warhol   \n",
       "130366  He told James Boswell, \"The better a man is, t...   Samuel Johnson   \n",
       "130367  Ernest Hemingway called it \"The only art in wh...     Bullfighting   \n",
       "130368  A 900-year-old organization expelled in 1798 w...            Malta   \n",
       "\n",
       "        value  \n",
       "0         200  \n",
       "1         400  \n",
       "2         600  \n",
       "3         200  \n",
       "4         400  \n",
       "...       ...  \n",
       "130364    200  \n",
       "130365    400  \n",
       "130366    600  \n",
       "130367   1900  \n",
       "130368      0  \n",
       "\n",
       "[130369 rows x 3 columns]"
      ]
     },
     "execution_count": 46,
     "metadata": {},
     "output_type": "execute_result"
    }
   ],
   "source": [
    "import pandas as pd\n",
    "pd.DataFrame(dict_of_lists)"
   ]
  },
  {
   "cell_type": "code",
   "execution_count": null,
   "id": "2b549d50",
   "metadata": {},
   "outputs": [],
   "source": []
  },
  {
   "cell_type": "code",
   "execution_count": null,
   "id": "fec9a365",
   "metadata": {},
   "outputs": [],
   "source": []
  }
 ],
 "metadata": {
  "kernelspec": {
   "display_name": "Python 3",
   "language": "python",
   "name": "python3"
  },
  "language_info": {
   "codemirror_mode": {
    "name": "ipython",
    "version": 3
   },
   "file_extension": ".py",
   "mimetype": "text/x-python",
   "name": "python",
   "nbconvert_exporter": "python",
   "pygments_lexer": "ipython3",
   "version": "3.6.9"
  }
 },
 "nbformat": 4,
 "nbformat_minor": 5
}
