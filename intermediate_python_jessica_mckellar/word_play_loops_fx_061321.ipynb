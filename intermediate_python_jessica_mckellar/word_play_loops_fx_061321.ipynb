{
 "cells": [
  {
   "cell_type": "markdown",
   "id": "17f591d5",
   "metadata": {},
   "source": [
    "## Play with words, loops, functions"
   ]
  },
  {
   "cell_type": "code",
   "execution_count": 3,
   "id": "c1737dd8",
   "metadata": {},
   "outputs": [],
   "source": [
    "word_file = 'sowpods.txt'"
   ]
  },
  {
   "cell_type": "markdown",
   "id": "f7ff3d63",
   "metadata": {},
   "source": [
    "#### Use Bash to print first 3 rows of word_file"
   ]
  },
  {
   "cell_type": "code",
   "execution_count": 4,
   "id": "8a50b2fd",
   "metadata": {},
   "outputs": [
    {
     "name": "stdout",
     "output_type": "stream",
     "text": [
      "AA\r\n",
      "AAH\r\n",
      "AAHED\r\n"
     ]
    }
   ],
   "source": [
    "#!cat {word_file}\n",
    "!head -3 {word_file}"
   ]
  },
  {
   "cell_type": "markdown",
   "id": "731efd64",
   "metadata": {},
   "source": [
    "#### Use Bash to test for existence of string in word_file"
   ]
  },
  {
   "cell_type": "code",
   "execution_count": 5,
   "id": "56363164",
   "metadata": {},
   "outputs": [],
   "source": [
    "#! cat {word_file} | grep -i aa"
   ]
  },
  {
   "cell_type": "code",
   "execution_count": null,
   "id": "b6fed24f",
   "metadata": {},
   "outputs": [],
   "source": [
    "#wordlist = open(word_file).readlines()\n",
    "#wordlist = [word.lower().strip() for word in wordlist]"
   ]
  },
  {
   "cell_type": "markdown",
   "id": "08d26cc0",
   "metadata": {},
   "source": [
    "#### Play w/ words + methods"
   ]
  },
  {
   "cell_type": "code",
   "execution_count": 21,
   "id": "a49ee52e",
   "metadata": {},
   "outputs": [
    {
     "data": {
      "text/plain": [
       "['blah', 'flah']"
      ]
     },
     "execution_count": 21,
     "metadata": {},
     "output_type": "execute_result"
    }
   ],
   "source": [
    "word = 'BLAH\\n FLAH\\n'\n",
    "#word.strip().lower().split()\n",
    "word.lower().split()"
   ]
  },
  {
   "cell_type": "markdown",
   "id": "5ec8a1f1",
   "metadata": {},
   "source": [
    "#### Read word_file into a list"
   ]
  },
  {
   "cell_type": "code",
   "execution_count": 6,
   "id": "0ff7fed5",
   "metadata": {},
   "outputs": [],
   "source": [
    "wordlist = []\n",
    "\n",
    "with open(word_file) as fh:\n",
    "    for line in fh:\n",
    "        word = line.lower().strip()\n",
    "        #print(word)\n",
    "        wordlist.append(word)\n",
    "    #print(wordlist)\n",
    "        "
   ]
  },
  {
   "cell_type": "code",
   "execution_count": 7,
   "id": "4bc61d71",
   "metadata": {},
   "outputs": [],
   "source": [
    "#wordlist"
   ]
  },
  {
   "cell_type": "markdown",
   "id": "d686207b",
   "metadata": {},
   "source": [
    "#### issubset method..."
   ]
  },
  {
   "cell_type": "code",
   "execution_count": null,
   "id": "8263058d",
   "metadata": {},
   "outputs": [],
   "source": [
    "B = set('february')"
   ]
  },
  {
   "cell_type": "code",
   "execution_count": null,
   "id": "19547c57",
   "metadata": {},
   "outputs": [],
   "source": [
    "A= set('feb')\n",
    "A.issubset(B)"
   ]
  },
  {
   "cell_type": "markdown",
   "id": "7e58987a",
   "metadata": {},
   "source": [
    "#### Make a function where a string can be passed + all words that contain that string are returned"
   ]
  },
  {
   "cell_type": "code",
   "execution_count": 8,
   "id": "9ff7b585",
   "metadata": {},
   "outputs": [],
   "source": [
    "def findcoolwords(wordlist, string):\n",
    "    list = []\n",
    "    for word in wordlist:\n",
    "        if string in word:\n",
    "            list.append(word)\n",
    "    return list"
   ]
  },
  {
   "cell_type": "code",
   "execution_count": 9,
   "id": "da562626",
   "metadata": {},
   "outputs": [],
   "source": [
    "feb_words = findcoolwords(wordlist = wordlist, string = 'feb')"
   ]
  },
  {
   "cell_type": "code",
   "execution_count": 10,
   "id": "86ef43f7",
   "metadata": {},
   "outputs": [],
   "source": [
    "#feb_words"
   ]
  },
  {
   "cell_type": "code",
   "execution_count": 11,
   "id": "fea21ac7",
   "metadata": {},
   "outputs": [],
   "source": [
    "eer_words = findcoolwords(wordlist = wordlist, string = 'eer')"
   ]
  },
  {
   "cell_type": "code",
   "execution_count": 12,
   "id": "86eadd02",
   "metadata": {},
   "outputs": [],
   "source": [
    "#eer_words"
   ]
  },
  {
   "cell_type": "markdown",
   "id": "defe6d64",
   "metadata": {},
   "source": [
    "#### Find English letters that appear double in any wordlist word--create function"
   ]
  },
  {
   "cell_type": "code",
   "execution_count": 13,
   "id": "dbad6d6f",
   "metadata": {},
   "outputs": [],
   "source": [
    "import string\n",
    "#zzz\n",
    "def is_ltr_dbl (ltr):\n",
    "    #ltr = 'a'\n",
    "    exists = False\n",
    "    for word in wordlist:\n",
    "        if ltr * 2 in word:\n",
    "            #print(word)\n",
    "            exists = True\n",
    "            break\n",
    "    if exists:  \n",
    "        #print(ltr + ': ' + 'there are words with this double letter')\n",
    "        return True\n",
    "    if not exists:  \n",
    "        #print(ltr + ': ' + 'no words with this double letter')\n",
    "        return False"
   ]
  },
  {
   "cell_type": "code",
   "execution_count": 14,
   "id": "39d59fb8",
   "metadata": {},
   "outputs": [
    {
     "data": {
      "text/plain": [
       "False"
      ]
     },
     "execution_count": 14,
     "metadata": {},
     "output_type": "execute_result"
    }
   ],
   "source": [
    "is_ltr_dbl('q')"
   ]
  },
  {
   "cell_type": "markdown",
   "id": "8ebf0a7a",
   "metadata": {},
   "source": [
    "#### Identify letters that do not appear x2 in words"
   ]
  },
  {
   "cell_type": "code",
   "execution_count": 15,
   "id": "9147bd27",
   "metadata": {},
   "outputs": [
    {
     "data": {
      "text/plain": [
       "['q', 'x']"
      ]
     },
     "execution_count": 15,
     "metadata": {},
     "output_type": "execute_result"
    }
   ],
   "source": [
    "[x for x in string.ascii_lowercase if is_ltr_dbl(x) == False  ]      "
   ]
  },
  {
   "cell_type": "code",
   "execution_count": 16,
   "id": "fb5c5054",
   "metadata": {},
   "outputs": [],
   "source": [
    "#[is_ltr_dbl(x) for x in string.ascii_lowercase]"
   ]
  },
  {
   "cell_type": "markdown",
   "id": "4e14aa13",
   "metadata": {},
   "source": [
    "#### Find English letters that appear double in any wordlist word--for loop"
   ]
  },
  {
   "cell_type": "code",
   "execution_count": 17,
   "id": "242f75f0",
   "metadata": {},
   "outputs": [
    {
     "name": "stdout",
     "output_type": "stream",
     "text": [
      "a: there are words with this double letter\n",
      "b: there are words with this double letter\n",
      "c: there are words with this double letter\n",
      "d: there are words with this double letter\n",
      "e: there are words with this double letter\n",
      "f: there are words with this double letter\n",
      "g: there are words with this double letter\n",
      "h: there are words with this double letter\n",
      "i: there are words with this double letter\n",
      "j: there are words with this double letter\n",
      "k: there are words with this double letter\n",
      "l: there are words with this double letter\n",
      "m: there are words with this double letter\n",
      "n: there are words with this double letter\n",
      "o: there are words with this double letter\n",
      "p: there are words with this double letter\n",
      "q: no words with this double letter\n",
      "r: there are words with this double letter\n",
      "s: there are words with this double letter\n",
      "t: there are words with this double letter\n",
      "u: there are words with this double letter\n",
      "v: there are words with this double letter\n",
      "w: there are words with this double letter\n",
      "x: no words with this double letter\n",
      "y: there are words with this double letter\n",
      "z: there are words with this double letter\n"
     ]
    }
   ],
   "source": [
    "import string\n",
    "\n",
    "for ltr in string.ascii_lowercase:\n",
    "    exists = False\n",
    "    for word in wordlist:\n",
    "        if ltr * 2 in word:\n",
    "            exists = True\n",
    "            break\n",
    "    if exists:  \n",
    "        print(ltr + ': ' + 'there are words with this double letter')     \n",
    "    if not exists:  \n",
    "        print(ltr + ': ' + 'no words with this double letter')"
   ]
  },
  {
   "cell_type": "markdown",
   "id": "07a8860a",
   "metadata": {},
   "source": [
    "#### Switch up outer/nested 'for' loops + see what happens"
   ]
  },
  {
   "cell_type": "code",
   "execution_count": 18,
   "id": "176fea9e",
   "metadata": {
    "scrolled": true
   },
   "outputs": [],
   "source": [
    "import string\n",
    "\n",
    "for word in wordlist:\n",
    "    exists = False\n",
    "    for ltr in string.ascii_lowercase:\n",
    "        if ltr * 2 in word:\n",
    "            #print(ltr)\n",
    "            exists = True\n",
    "            break\n",
    "    if exists:  \n",
    "        #print(ltr + ': ' + word)\n",
    "        pass\n",
    "    if not exists: \n",
    "        pass\n",
    "        #print(ltr*2 + ': ' + 'was not in:' + word)"
   ]
  },
  {
   "cell_type": "markdown",
   "id": "4fe08cbe",
   "metadata": {},
   "source": [
    "#### Create a dict comprehension"
   ]
  },
  {
   "cell_type": "code",
   "execution_count": 201,
   "id": "dafe0601",
   "metadata": {},
   "outputs": [],
   "source": [
    "dol = {ltr:0 for ltr in string.ascii_lowercase}\n",
    "#dol"
   ]
  },
  {
   "cell_type": "markdown",
   "id": "666bfd1d",
   "metadata": {},
   "source": [
    "#### Create a dict that contains counts of instances letter appears double in a word"
   ]
  },
  {
   "cell_type": "code",
   "execution_count": 202,
   "id": "e23a24e6",
   "metadata": {
    "scrolled": true
   },
   "outputs": [],
   "source": [
    "import string\n",
    "\n",
    "for word in wordlist:\n",
    "    exists = False\n",
    "    for ltr in string.ascii_lowercase:\n",
    "        if ltr * 2 in word:\n",
    "            dol[ltr] += 1\n",
    "            #print(ltr)\n",
    "            exists = True\n",
    "            break\n",
    "    if exists:  \n",
    "        #print(ltr + ': ' + word)\n",
    "        pass\n",
    "    if not exists:\n",
    "        #bad_letters.append(ltr)\n",
    "        #print(ltr*2 + ': ' + 'was not in:' + word)\n",
    "        pass"
   ]
  },
  {
   "cell_type": "code",
   "execution_count": 206,
   "id": "83c1ce35",
   "metadata": {},
   "outputs": [
    {
     "data": {
      "text/plain": [
       "{'a': 192,\n",
       " 'b': 1483,\n",
       " 'c': 1502,\n",
       " 'd': 1644,\n",
       " 'e': 5935,\n",
       " 'f': 2412,\n",
       " 'g': 1930,\n",
       " 'h': 59,\n",
       " 'i': 91,\n",
       " 'j': 6,\n",
       " 'k': 113,\n",
       " 'l': 12178,\n",
       " 'm': 2546,\n",
       " 'n': 2562,\n",
       " 'o': 5772,\n",
       " 'p': 2668,\n",
       " 'q': 0,\n",
       " 'r': 3616,\n",
       " 's': 12815,\n",
       " 't': 4280,\n",
       " 'u': 39,\n",
       " 'v': 63,\n",
       " 'w': 25,\n",
       " 'x': 0,\n",
       " 'y': 4,\n",
       " 'z': 599}"
      ]
     },
     "execution_count": 206,
     "metadata": {},
     "output_type": "execute_result"
    }
   ],
   "source": [
    "dol"
   ]
  },
  {
   "cell_type": "markdown",
   "id": "6cce928a",
   "metadata": {},
   "source": [
    "#### Find words that appear in 'dol' w/ a specified frequency"
   ]
  },
  {
   "cell_type": "code",
   "execution_count": 209,
   "id": "b86a2616",
   "metadata": {},
   "outputs": [
    {
     "data": {
      "text/plain": [
       "['b', 'c', 'd', 'e', 'f', 'g', 'l', 'm', 'n', 'o', 'p', 'r', 's', 't', 'z']"
      ]
     },
     "execution_count": 209,
     "metadata": {},
     "output_type": "execute_result"
    }
   ],
   "source": [
    "[ltr for ltr in dol if dol[ltr] > 200]"
   ]
  },
  {
   "cell_type": "markdown",
   "id": "0e9d592f",
   "metadata": {},
   "source": [
    "#### Find words that contain all  English vowels"
   ]
  },
  {
   "cell_type": "code",
   "execution_count": 20,
   "id": "37f46b9f",
   "metadata": {},
   "outputs": [],
   "source": [
    "vowels = 'aeiou'\n",
    "\n",
    "def has_all_vowels(word):\n",
    "    for vowel in vowels:\n",
    "        if vowel in word:\n",
    "            return True\n",
    "    return False\n",
    "\n",
    "for word in wordlist:\n",
    "    if has_all_vowels(word):\n",
    "        pass\n",
    "        #print(word)"
   ]
  },
  {
   "cell_type": "code",
   "execution_count": null,
   "id": "444e95e1",
   "metadata": {},
   "outputs": [],
   "source": []
  },
  {
   "cell_type": "code",
   "execution_count": null,
   "id": "40689180",
   "metadata": {},
   "outputs": [],
   "source": []
  },
  {
   "cell_type": "code",
   "execution_count": null,
   "id": "5bd85187",
   "metadata": {},
   "outputs": [],
   "source": []
  }
 ],
 "metadata": {
  "kernelspec": {
   "display_name": "Python 3",
   "language": "python",
   "name": "python3"
  },
  "language_info": {
   "codemirror_mode": {
    "name": "ipython",
    "version": 3
   },
   "file_extension": ".py",
   "mimetype": "text/x-python",
   "name": "python",
   "nbconvert_exporter": "python",
   "pygments_lexer": "ipython3",
   "version": "3.6.9"
  }
 },
 "nbformat": 4,
 "nbformat_minor": 5
}
