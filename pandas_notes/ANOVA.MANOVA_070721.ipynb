{
 "cells": [
  {
   "cell_type": "markdown",
   "id": "5b819273",
   "metadata": {},
   "source": [
    "### Inferentials...  ANOVA and MANOVA"
   ]
  },
  {
   "cell_type": "code",
   "execution_count": 1,
   "id": "c653258b",
   "metadata": {},
   "outputs": [],
   "source": [
    "import seaborn as sns"
   ]
  },
  {
   "cell_type": "code",
   "execution_count": 14,
   "id": "7fed1216",
   "metadata": {},
   "outputs": [],
   "source": [
    "#sns.get_dataset_names()"
   ]
  },
  {
   "cell_type": "code",
   "execution_count": 15,
   "id": "22abe2a7",
   "metadata": {},
   "outputs": [
    {
     "data": {
      "text/html": [
       "<div>\n",
       "<style scoped>\n",
       "    .dataframe tbody tr th:only-of-type {\n",
       "        vertical-align: middle;\n",
       "    }\n",
       "\n",
       "    .dataframe tbody tr th {\n",
       "        vertical-align: top;\n",
       "    }\n",
       "\n",
       "    .dataframe thead th {\n",
       "        text-align: right;\n",
       "    }\n",
       "</style>\n",
       "<table border=\"1\" class=\"dataframe\">\n",
       "  <thead>\n",
       "    <tr style=\"text-align: right;\">\n",
       "      <th></th>\n",
       "      <th>species</th>\n",
       "      <th>island</th>\n",
       "      <th>bill_length_mm</th>\n",
       "      <th>bill_depth_mm</th>\n",
       "      <th>flipper_length_mm</th>\n",
       "      <th>body_mass_g</th>\n",
       "      <th>sex</th>\n",
       "    </tr>\n",
       "  </thead>\n",
       "  <tbody>\n",
       "    <tr>\n",
       "      <th>0</th>\n",
       "      <td>Adelie</td>\n",
       "      <td>Torgersen</td>\n",
       "      <td>39.1</td>\n",
       "      <td>18.7</td>\n",
       "      <td>181.0</td>\n",
       "      <td>3750.0</td>\n",
       "      <td>Male</td>\n",
       "    </tr>\n",
       "    <tr>\n",
       "      <th>1</th>\n",
       "      <td>Adelie</td>\n",
       "      <td>Torgersen</td>\n",
       "      <td>39.5</td>\n",
       "      <td>17.4</td>\n",
       "      <td>186.0</td>\n",
       "      <td>3800.0</td>\n",
       "      <td>Female</td>\n",
       "    </tr>\n",
       "    <tr>\n",
       "      <th>2</th>\n",
       "      <td>Adelie</td>\n",
       "      <td>Torgersen</td>\n",
       "      <td>40.3</td>\n",
       "      <td>18.0</td>\n",
       "      <td>195.0</td>\n",
       "      <td>3250.0</td>\n",
       "      <td>Female</td>\n",
       "    </tr>\n",
       "    <tr>\n",
       "      <th>3</th>\n",
       "      <td>Adelie</td>\n",
       "      <td>Torgersen</td>\n",
       "      <td>NaN</td>\n",
       "      <td>NaN</td>\n",
       "      <td>NaN</td>\n",
       "      <td>NaN</td>\n",
       "      <td>NaN</td>\n",
       "    </tr>\n",
       "    <tr>\n",
       "      <th>4</th>\n",
       "      <td>Adelie</td>\n",
       "      <td>Torgersen</td>\n",
       "      <td>36.7</td>\n",
       "      <td>19.3</td>\n",
       "      <td>193.0</td>\n",
       "      <td>3450.0</td>\n",
       "      <td>Female</td>\n",
       "    </tr>\n",
       "  </tbody>\n",
       "</table>\n",
       "</div>"
      ],
      "text/plain": [
       "  species     island  bill_length_mm  bill_depth_mm  flipper_length_mm  \\\n",
       "0  Adelie  Torgersen            39.1           18.7              181.0   \n",
       "1  Adelie  Torgersen            39.5           17.4              186.0   \n",
       "2  Adelie  Torgersen            40.3           18.0              195.0   \n",
       "3  Adelie  Torgersen             NaN            NaN                NaN   \n",
       "4  Adelie  Torgersen            36.7           19.3              193.0   \n",
       "\n",
       "   body_mass_g     sex  \n",
       "0       3750.0    Male  \n",
       "1       3800.0  Female  \n",
       "2       3250.0  Female  \n",
       "3          NaN     NaN  \n",
       "4       3450.0  Female  "
      ]
     },
     "execution_count": 15,
     "metadata": {},
     "output_type": "execute_result"
    }
   ],
   "source": [
    "penguins = sns.load_dataset('penguins')\n",
    "penguins.head()"
   ]
  },
  {
   "cell_type": "code",
   "execution_count": 13,
   "id": "efb675d9",
   "metadata": {},
   "outputs": [],
   "source": [
    "import pandas as pd\n",
    "import numpy as np\n",
    "#mod max row display count\n",
    "pd.set_option('display.max_rows', 1000)"
   ]
  },
  {
   "cell_type": "markdown",
   "id": "bd670d53",
   "metadata": {},
   "source": [
    "#### get means of numeric vars"
   ]
  },
  {
   "cell_type": "code",
   "execution_count": 16,
   "id": "4de1d0b1",
   "metadata": {},
   "outputs": [
    {
     "data": {
      "text/plain": [
       "bill_length_mm         43.921930\n",
       "bill_depth_mm          17.151170\n",
       "flipper_length_mm     200.915205\n",
       "body_mass_g          4201.754386\n",
       "dtype: float64"
      ]
     },
     "execution_count": 16,
     "metadata": {},
     "output_type": "execute_result"
    }
   ],
   "source": [
    "penguins.mean(axis = 'index')"
   ]
  },
  {
   "cell_type": "markdown",
   "id": "8bf832d4",
   "metadata": {},
   "source": [
    "#### get descriptives"
   ]
  },
  {
   "cell_type": "code",
   "execution_count": 22,
   "id": "b54dc9d7",
   "metadata": {},
   "outputs": [
    {
     "name": "stdout",
     "output_type": "stream",
     "text": [
      "            bm_mean  bm_min  bm_max   bm_stddev\n",
      "sex                                            \n",
      "Female  3862.272727  2700.0  5200.0  666.172050\n",
      "Male    4545.684524  3250.0  6300.0  787.628884\n"
     ]
    }
   ],
   "source": [
    "df = pd.DataFrame(penguins)\n",
    "grouped_multiple = df.groupby(['sex']).agg({'body_mass_g': ['mean', 'min', 'max','std']})\n",
    "grouped_multiple.columns = ['bm_mean', 'bm_min', 'bm_max','bm_stddev']\n",
    "print(grouped_multiple)"
   ]
  },
  {
   "cell_type": "markdown",
   "id": "e4e9fcf3",
   "metadata": {},
   "source": [
    "#### Create a boxplot"
   ]
  },
  {
   "cell_type": "code",
   "execution_count": 38,
   "id": "895a0b4f",
   "metadata": {},
   "outputs": [
    {
     "data": {
      "text/plain": [
       "<AxesSubplot:title={'center':'body_mass_g'}, xlabel='species'>"
      ]
     },
     "execution_count": 38,
     "metadata": {},
     "output_type": "execute_result"
    },
    {
     "data": {
      "image/png": "[encoded data removed]",
      "text/plain": [
       "<Figure size 432x576 with 1 Axes>"
      ]
     },
     "metadata": {
      "needs_background": "light"
     },
     "output_type": "display_data"
    }
   ],
   "source": [
    "df.boxplot('body_mass_g', by='species', figsize=(6, 8))"
   ]
  },
  {
   "cell_type": "code",
   "execution_count": 23,
   "id": "2fdf6c97",
   "metadata": {},
   "outputs": [],
   "source": [
    "import statsmodels.api as sm\n",
    "from statsmodels.formula.api import ols\n",
    "from statsmodels.stats.anova import anova_lm\n",
    "from statsmodels.multivariate.manova import MANOVA"
   ]
  },
  {
   "cell_type": "markdown",
   "id": "2ecee147",
   "metadata": {},
   "source": [
    "#### one-way ANOVA--significantly different bill structure by species?"
   ]
  },
  {
   "cell_type": "code",
   "execution_count": 37,
   "id": "64f40987",
   "metadata": {},
   "outputs": [
    {
     "name": "stdout",
     "output_type": "stream",
     "text": [
      "              sum_sq     df          F  PR(>F)\n",
      "species   5182.60982    2.0  191.67282     0.0\n",
      "Residual  4583.08270  339.0        NaN     NaN\n"
     ]
    }
   ],
   "source": [
    "df['bill'] = df.bill_length_mm + df.bill_depth_mm\n",
    "#df.head()\n",
    "\n",
    "model = ols('bill ~ species', data = df).fit()\n",
    "aov_table = anova_lm(model, typ=2)\n",
    "print(aov_table.round(5))"
   ]
  },
  {
   "cell_type": "markdown",
   "id": "c72bd76d",
   "metadata": {},
   "source": [
    "#### MANOVA--significantly different bill structure and weight by species?"
   ]
  },
  {
   "cell_type": "code",
   "execution_count": 44,
   "id": "0f5b2dda",
   "metadata": {},
   "outputs": [
    {
     "name": "stdout",
     "output_type": "stream",
     "text": [
      "                    Multivariate linear model\n",
      "==================================================================\n",
      "                                                                  \n",
      "------------------------------------------------------------------\n",
      "       Intercept         Value   Num DF  Den DF   F Value   Pr > F\n",
      "------------------------------------------------------------------\n",
      "          Wilks' lambda   0.0089 2.0000 338.0000 18864.3131 0.0000\n",
      "         Pillai's trace   0.9911 2.0000 338.0000 18864.3131 0.0000\n",
      " Hotelling-Lawley trace 111.6232 2.0000 338.0000 18864.3131 0.0000\n",
      "    Roy's greatest root 111.6232 2.0000 338.0000 18864.3131 0.0000\n",
      "------------------------------------------------------------------\n",
      "                                                                  \n",
      "------------------------------------------------------------------\n",
      "            species         Value  Num DF  Den DF  F Value  Pr > F\n",
      "------------------------------------------------------------------\n",
      "              Wilks' lambda 0.1074 4.0000 676.0000 346.5717 0.0000\n",
      "             Pillai's trace 1.2932 4.0000 678.0000 310.1374 0.0000\n",
      "     Hotelling-Lawley trace 4.5780 4.0000 404.5623 386.4594 0.0000\n",
      "        Roy's greatest root 3.5180 2.0000 339.0000 596.3023 0.0000\n",
      "==================================================================\n",
      "\n"
     ]
    }
   ],
   "source": [
    "maov = MANOVA.from_formula('body_mass_g + bill ~ species', data=df)\n",
    "print(maov.mv_test())"
   ]
  },
  {
   "cell_type": "code",
   "execution_count": null,
   "id": "edb9adbd",
   "metadata": {},
   "outputs": [],
   "source": []
  }
 ],
 "metadata": {
  "kernelspec": {
   "display_name": "Python 3",
   "language": "python",
   "name": "python3"
  },
  "language_info": {
   "codemirror_mode": {
    "name": "ipython",
    "version": 3
   },
   "file_extension": ".py",
   "mimetype": "text/x-python",
   "name": "python",
   "nbconvert_exporter": "python",
   "pygments_lexer": "ipython3",
   "version": "3.6.9"
  }
 },
 "nbformat": 4,
 "nbformat_minor": 5
}
