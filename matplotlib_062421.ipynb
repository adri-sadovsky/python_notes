{
 "cells": [
  {
   "cell_type": "code",
   "execution_count": 1,
   "id": "ca45aa7b",
   "metadata": {},
   "outputs": [],
   "source": [
    "%matplotlib inline"
   ]
  },
  {
   "cell_type": "code",
   "execution_count": 2,
   "id": "4730efb0",
   "metadata": {},
   "outputs": [],
   "source": [
    "from matplotlib import pyplot"
   ]
  },
  {
   "cell_type": "code",
   "execution_count": 14,
   "id": "e19dad40",
   "metadata": {},
   "outputs": [],
   "source": [
    "import random"
   ]
  },
  {
   "cell_type": "code",
   "execution_count": 16,
   "id": "efd99e0a",
   "metadata": {},
   "outputs": [
    {
     "data": {
      "text/plain": [
       "Text(0.5, 1.0, 'test graph')"
      ]
     },
     "execution_count": 16,
     "metadata": {},
     "output_type": "execute_result"
    },
    {
     "data": {
      "image/png": "[encoded data removed]",
      "text/plain": [
       "<Figure size 432x288 with 1 Axes>"
      ]
     },
     "metadata": {
      "needs_background": "light"
     },
     "output_type": "display_data"
    }
   ],
   "source": [
    "x_values = [1,2,3,4,5]\n",
    "y_values = [random.randint(0,50) for item in x_values]\n",
    "pyplot.plot(x_values,y_values, 'x')\n",
    "pyplot.ylabel('values')\n",
    "pyplot.xlabel('time')\n",
    "pyplot.title('test graph')\n",
    "#pyplot.show"
   ]
  },
  {
   "cell_type": "code",
   "execution_count": 20,
   "id": "5688b457",
   "metadata": {},
   "outputs": [],
   "source": [
    "data = open('world_population.txt','r').readlines()"
   ]
  },
  {
   "cell_type": "code",
   "execution_count": 21,
   "id": "7210c9e5",
   "metadata": {},
   "outputs": [
    {
     "data": {
      "text/plain": [
       "['-10000 4\\n',\n",
       " '-8000  5\\n',\n",
       " '-7000  5\\n',\n",
       " '-6000  5\\n',\n",
       " '-5000  5\\n',\n",
       " '-4000  7\\n',\n",
       " '-3000  14\\n',\n",
       " '-2000  27\\n',\n",
       " '-1000  50\\n',\n",
       " '-750   60\\n',\n",
       " '-500   100\\n',\n",
       " '-400   160\\n',\n",
       " '-200   150\\n',\n",
       " '1      170\\n',\n",
       " '200    190\\n',\n",
       " '400    190\\n',\n",
       " '500    190\\n',\n",
       " '600    200\\n',\n",
       " '700    210\\n',\n",
       " '800    220\\n',\n",
       " '900    226\\n',\n",
       " '1000   310\\n',\n",
       " '1100   301\\n',\n",
       " '1200   360\\n',\n",
       " '1250   400\\n',\n",
       " '1300   360\\n',\n",
       " '1340   443\\n',\n",
       " '1400   350\\n',\n",
       " '1500   425\\n',\n",
       " '1600   545\\n',\n",
       " '1650   470\\n',\n",
       " '1700   600\\n',\n",
       " '1750   790\\n',\n",
       " '1800   980\\n',\n",
       " '1815   1000\\n',\n",
       " '1850   1260\\n',\n",
       " '1900   1650\\n',\n",
       " '1910   1750\\n',\n",
       " '1920   1860\\n',\n",
       " '1927   2000\\n',\n",
       " '1930   2070\\n',\n",
       " '1940   2300\\n',\n",
       " '1950   2400\\n',\n",
       " '1960   3020\\n',\n",
       " '1970   3700\\n',\n",
       " '1974   5000\\n',\n",
       " '1980   5000\\n',\n",
       " '1987   5000\\n',\n",
       " '1990   5000\\n',\n",
       " '1999   6000\\n',\n",
       " '2000   6070\\n',\n",
       " '2005   6500\\n',\n",
       " '2007   6576\\n',\n",
       " '2008   6900\\n']"
      ]
     },
     "execution_count": 21,
     "metadata": {},
     "output_type": "execute_result"
    }
   ],
   "source": [
    "data"
   ]
  },
  {
   "cell_type": "code",
   "execution_count": null,
   "id": "9bab861f",
   "metadata": {},
   "outputs": [],
   "source": []
  },
  {
   "cell_type": "code",
   "execution_count": 24,
   "id": "8ec240a4",
   "metadata": {},
   "outputs": [
    {
     "data": {
      "text/plain": [
       "Text(0.5, 1.0, 'world pop graph')"
      ]
     },
     "execution_count": 24,
     "metadata": {},
     "output_type": "execute_result"
    },
    {
     "data": {
      "image/png": "[encoded data removed]",
      "text/plain": [
       "<Figure size 432x288 with 1 Axes>"
      ]
     },
     "metadata": {
      "needs_background": "light"
     },
     "output_type": "display_data"
    }
   ],
   "source": [
    "dates = []\n",
    "populations = []\n",
    "for iv in data:\n",
    "    date, pop = iv.split()\n",
    "    dates.append(date)\n",
    "    populations.append(pop)\n",
    "\n",
    "pyplot.plot(dates,populations, '.')\n",
    "pyplot.ylabel('pop')\n",
    "pyplot.xlabel('date')\n",
    "pyplot.title('world pop graph')\n",
    "#pyplot.show"
   ]
  },
  {
   "cell_type": "code",
   "execution_count": 26,
   "id": "2e425d5f",
   "metadata": {},
   "outputs": [],
   "source": [
    "data = open('life_expectancies_usa.txt','r').readlines()"
   ]
  },
  {
   "cell_type": "code",
   "execution_count": 27,
   "id": "7ae96ce6",
   "metadata": {},
   "outputs": [
    {
     "data": {
      "text/plain": [
       "['1850,38.30,40.50\\n',\n",
       " '1890,42.50,44.46\\n',\n",
       " '1900,48.23,51.08\\n',\n",
       " '1909,50.23,53.62\\n',\n",
       " '1919,56.34,58.53\\n',\n",
       " '1929,59.12,62.67\\n',\n",
       " '1939,62.81,67.29\\n',\n",
       " '1949,66.31,72.03\\n',\n",
       " '1959,67.55,74.19\\n',\n",
       " '1969,67.94,75.49\\n',\n",
       " '1979,70.82,78.22\\n',\n",
       " '1990,72.7,79.40\\n',\n",
       " '2000,74.8,80.00\\n']"
      ]
     },
     "execution_count": 27,
     "metadata": {},
     "output_type": "execute_result"
    }
   ],
   "source": [
    "data"
   ]
  },
  {
   "cell_type": "code",
   "execution_count": 28,
   "id": "239a72a0",
   "metadata": {},
   "outputs": [
    {
     "data": {
      "text/plain": [
       "Text(0.5, 1.0, 'avg life expectancies for m + f by year')"
      ]
     },
     "execution_count": 28,
     "metadata": {},
     "output_type": "execute_result"
    },
    {
     "data": {
      "image/png": "[encoded data removed]",
      "text/plain": [
       "<Figure size 432x288 with 1 Axes>"
      ]
     },
     "metadata": {
      "needs_background": "light"
     },
     "output_type": "display_data"
    }
   ],
   "source": [
    "dates = []\n",
    "m_life_expectancies = []\n",
    "f_life_expectancies = []\n",
    "\n",
    "for iv in data:\n",
    "    date, mlife, flife = iv.split(',')\n",
    "    dates.append(date)\n",
    "    m_life_expectancies.append(mlife)\n",
    "    f_life_expectancies.append(flife)\n",
    "\n",
    "pyplot.plot(dates,m_life_expectancies, 'bo-', label = 'Males')\n",
    "pyplot.plot(dates,f_life_expectancies, 'mo-', label = 'Females')\n",
    "\n",
    "pyplot.legend(loc = 'upper left')\n",
    "pyplot.ylabel('age')\n",
    "pyplot.xlabel('year')\n",
    "\n",
    "pyplot.title('avg life expectancies for m + f by year')\n",
    "#pyplot.show"
   ]
  },
  {
   "cell_type": "code",
   "execution_count": 29,
   "id": "ed15ccb7",
   "metadata": {},
   "outputs": [],
   "source": [
    "import string"
   ]
  },
  {
   "cell_type": "code",
   "execution_count": 42,
   "id": "beb2fe6a",
   "metadata": {},
   "outputs": [
    {
     "data": {
      "text/plain": [
       "Text(0.5, 1.0, 'counts of english letters in US constitution')"
      ]
     },
     "execution_count": 42,
     "metadata": {},
     "output_type": "execute_result"
    },
    {
     "data": {
      "image/png": "[encoded data removed]",
      "text/plain": [
       "<Figure size 432x288 with 1 Axes>"
      ]
     },
     "metadata": {
      "needs_background": "light"
     },
     "output_type": "display_data"
    }
   ],
   "source": [
    "data = open('constitution.txt','r').read()\n",
    "letter_counts = {}\n",
    "for l in string.ascii_lowercase:\n",
    "    letter_counts[l] = 0\n",
    "#print(letter_counts)\n",
    "\n",
    "for char in data:\n",
    "    char = char.lower()\n",
    "    if char in string.ascii_lowercase:\n",
    "        letter_counts[char] += 1\n",
    "\n",
    "freq = letter_counts.items()\n",
    "labels = []\n",
    "counts = []\n",
    "\n",
    "for letter,count in sorted(freq):\n",
    "    labels.append(letter)\n",
    "    counts.append(count)\n",
    "\n",
    "xlocations = range(len(freq))\n",
    "width = 0.5\n",
    "\n",
    "pyplot.xticks([iv + width/2 for iv in xlocations], labels)\n",
    "pyplot.bar(xlocations, counts, width = width)\n",
    "\n",
    "pyplot.xlabel('letters')\n",
    "pyplot.ylabel('freq')\n",
    "pyplot.title('counts of english letters in US constitution')"
   ]
  },
  {
   "cell_type": "code",
   "execution_count": null,
   "id": "44d630e2",
   "metadata": {},
   "outputs": [],
   "source": [
    "py"
   ]
  },
  {
   "cell_type": "code",
   "execution_count": null,
   "id": "522ad7f4",
   "metadata": {},
   "outputs": [],
   "source": []
  },
  {
   "cell_type": "code",
   "execution_count": null,
   "id": "ddec566f",
   "metadata": {},
   "outputs": [],
   "source": []
  }
 ],
 "metadata": {
  "kernelspec": {
   "display_name": "Python 3",
   "language": "python",
   "name": "python3"
  },
  "language_info": {
   "codemirror_mode": {
    "name": "ipython",
    "version": 3
   },
   "file_extension": ".py",
   "mimetype": "text/x-python",
   "name": "python",
   "nbconvert_exporter": "python",
   "pygments_lexer": "ipython3",
   "version": "3.6.9"
  }
 },
 "nbformat": 4,
 "nbformat_minor": 5
}
